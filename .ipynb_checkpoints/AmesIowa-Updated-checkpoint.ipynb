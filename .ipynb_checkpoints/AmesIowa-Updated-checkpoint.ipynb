{
 "cells": [
  {
   "cell_type": "markdown",
   "id": "99f9af6c",
   "metadata": {},
   "source": [
    "Import the necessary packages"
   ]
  },
  {
   "cell_type": "code",
   "execution_count": 1,
   "id": "f0ff8844",
   "metadata": {},
   "outputs": [
    {
     "data": {
      "text/html": [
       "        <script type=\"text/javascript\">\n",
       "        window.PlotlyConfig = {MathJaxConfig: 'local'};\n",
       "        if (window.MathJax) {MathJax.Hub.Config({SVG: {font: \"STIX-Web\"}});}\n",
       "        if (typeof require !== 'undefined') {\n",
       "        require.undef(\"plotly\");\n",
       "        requirejs.config({\n",
       "            paths: {\n",
       "                'plotly': ['https://cdn.plot.ly/plotly-2.11.1.min']\n",
       "            }\n",
       "        });\n",
       "        require(['plotly'], function(Plotly) {\n",
       "            window._Plotly = Plotly;\n",
       "        });\n",
       "        }\n",
       "        </script>\n",
       "        "
      ]
     },
     "metadata": {},
     "output_type": "display_data"
    }
   ],
   "source": [
    "import numpy as np\n",
    "import pandas as pd\n",
    "from matplotlib import pyplot as plt\n",
    "plt.style.use('ggplot')\n",
    "import plotly as px\n",
    "\n",
    "# So that it plots locally\n",
    "px.offline.init_notebook_mode(connected = True)\n",
    "\n",
    "# Increase default plot size for all Matplotlib figures\n",
    "plt.rcParams[\"figure.figsize\"] = (27,9)        \n",
    "\n",
    "from datetime import date\n",
    "from sklearn.linear_model import LinearRegression, HuberRegressor\n",
    "from sklearn import linear_model\n",
    "import statsmodels.api as sm\n",
    "from statsmodels.api import OLS\n",
    "\n",
    "# Increase pandas default max_rows \n",
    "pd.options.display.max_rows = 250\n",
    "pd.options.display.max_columns = 250"
   ]
  },
  {
   "cell_type": "markdown",
   "id": "e12920a7",
   "metadata": {},
   "source": [
    "Clean the data from the source .csv file"
   ]
  },
  {
   "cell_type": "code",
   "execution_count": 2,
   "id": "2d0147b3",
   "metadata": {},
   "outputs": [
    {
     "name": "stderr",
     "output_type": "stream",
     "text": [
      "/Users/jchatterjee/opt/anaconda3/lib/python3.9/site-packages/pandas/core/indexing.py:1732: SettingWithCopyWarning:\n",
      "\n",
      "\n",
      "A value is trying to be set on a copy of a slice from a DataFrame\n",
      "\n",
      "See the caveats in the documentation: https://pandas.pydata.org/pandas-docs/stable/user_guide/indexing.html#returning-a-view-versus-a-copy\n",
      "\n"
     ]
    }
   ],
   "source": [
    "# DO THIS EVERY TIME YOU ARE LOADING THE CSV FILE INTO THE IDE OR NOTEBOOK\n",
    "\n",
    "ames = pd.read_csv('Data/Clean_Ames_Housing_Price.csv', index_col=0)\n",
    "\n",
    "# Apply mask/filter to examine only null values.\n",
    "lot_nulls = ames[ames['LotFrontage'].isna()] #lots with no linear feet of street connected to property\n",
    "\n",
    "# Group lots by configuration\n",
    "grouped_lots = ames.groupby(['LotConfig']).agg({\n",
    "   'LotFrontage' : 'mean', \n",
    "})\n",
    "\n",
    "# Replace np.nan with average for lot_config of that type\n",
    "ames.loc[(ames['LotFrontage'].isna()) & (ames['LotConfig'] == 'Corner'), 'LotFrontage'] = 81.468023\n",
    "ames.loc[(ames['LotFrontage'].isna()) & (ames['LotConfig'] == 'CulDSac'), 'LotFrontage'] = 56.456790        \n",
    "ames.loc[(ames['LotFrontage'].isna()) & (ames['LotConfig'] == 'FR2'), 'LotFrontage'] = 59.413793        \n",
    "ames.loc[(ames['LotFrontage'].isna()) & (ames['LotConfig'] == 'FR3'), 'LotFrontage'] = 79.3       \n",
    "ames.loc[(ames['LotFrontage'].isna()) & (ames['LotConfig'] == 'Inside'), 'LotFrontage'] = 66.633846\n",
    "\n",
    "# Clean NaN values with proper coding\n",
    "ames['Alley'] = ames['Alley'].replace(np.nan, 'NA')\n",
    "ames['BsmtQual'] = ames['BsmtQual'].replace(np.nan, 'NA')\n",
    "ames['BsmtCond'] = ames['BsmtCond'].replace(np.nan, 'NA')\n",
    "ames['BsmtExposure'] = ames['BsmtExposure'].replace(np.nan, 'NA')\n",
    "ames['BsmtFinType1'] = ames['BsmtFinType1'].replace(np.nan, 'NA')\n",
    "ames['BsmtFinSF1'] = ames['BsmtFinSF1'].replace(np.nan, 0)\n",
    "ames['BsmtFinType2'] = ames['BsmtFinType2'].replace(np.nan, 'NA')\n",
    "ames['BsmtFinSF2'] = ames['BsmtFinSF2'].replace(np.nan, 0)\n",
    "ames['BsmtUnfSF'] = ames['BsmtUnfSF'].replace(np.nan, 0)\n",
    "ames['TotalBsmtSF'] = ames['TotalBsmtSF'].replace(np.nan, 0)\n",
    "ames['BsmtFullBath'] = ames['BsmtFullBath'].replace(np.nan, 0)\n",
    "ames['BsmtHalfBath'] = ames['BsmtHalfBath'].replace(np.nan, 0)\n",
    "ames['Electrical'] = ames['Electrical'].replace(np.nan, 'SBrkr')\n",
    "ames['FireplaceQu'] = ames['FireplaceQu'].replace(np.nan, 'NA')\n",
    "ames['GarageType'] = ames['GarageType'].replace(np.nan, 'NA')\n",
    "ames['GarageYrBlt'] = ames['GarageYrBlt'].replace(np.nan, 'NA')\n",
    "ames['GarageFinish'] = ames['GarageFinish'].replace(np.nan, 'NA')\n",
    "ames['GarageCars'] = ames['GarageCars'].replace(np.nan, 0)\n",
    "ames['GarageArea'] = ames['GarageArea'].replace(np.nan, 0)\n",
    "ames['GarageQual'] = ames['GarageQual'].replace(np.nan, 'NA')\n",
    "ames['GarageCond'] = ames['GarageCond'].replace(np.nan, 'NA')\n",
    "ames['PoolQC'] = ames['PoolQC'].replace(np.nan, 'NA')\n",
    "ames['Fence'] = ames['Fence'].replace(np.nan, 'NA')\n",
    "ames['MiscFeature'] = ames['MiscFeature'].replace(np.nan, 'NA')\n",
    "\n",
    "# Inspect the property records to see front façades\n",
    "# https://beacon.schneidercorp.com/Application.aspx?AppID=165&LayerID=2145&PageTypeID=2&PageID=1104\n",
    "ames['MasVnrType'].loc[176] = \"Stone\"\n",
    "ames['MasVnrType'].loc[359] = \"None\"\n",
    "ames['MasVnrType'].loc[754] = \"None\"\n",
    "ames['MasVnrType'].loc[788] = \"None\"\n",
    "ames['MasVnrType'].loc[872] = \"None\"\n",
    "ames['MasVnrType'].loc[892] = \"None\"\n",
    "ames['MasVnrType'].loc[952] = \"Stone\"\n",
    "ames['MasVnrType'].loc[1042] = \"None\"\n",
    "ames['MasVnrType'].loc[1162] = \"None\"\n",
    "ames['MasVnrType'].loc[1356] = \"None\"\n",
    "ames['MasVnrType'].loc[1554] = \"None\"\n",
    "ames['MasVnrType'].loc[2034] = \"None\"\n",
    "ames['MasVnrType'].loc[2478] = \"None\"\n",
    "ames['MasVnrType'].loc[2537] = \"None\"\n",
    "\n",
    "# For the properties with partial height stone façade, assume 4 ft height,\n",
    "# and for full height, assume 8 ft height\n",
    "# Assume façade length is the 1.618 length of a house built in the footprint of a golden ration\n",
    "# sqrt(1.618 * 1stFlrSF)\n",
    "ames['MasVnrArea'].loc[176] = 4 * (1.618 * ames.loc[176]['1stFlrSF']) ** 0.5\n",
    "ames['MasVnrArea'].loc[359] = 0\n",
    "ames['MasVnrArea'].loc[754] = 0\n",
    "ames['MasVnrArea'].loc[788] = 0\n",
    "ames['MasVnrArea'].loc[872] = 0\n",
    "ames['MasVnrArea'].loc[892] = 0\n",
    "ames['MasVnrArea'].loc[952] = 8 * (1.618 * ames.loc[176]['1stFlrSF']) ** 0.5\n",
    "ames['MasVnrArea'].loc[1042] = 0\n",
    "ames['MasVnrArea'].loc[1162] = 0\n",
    "ames['MasVnrArea'].loc[1356] = 0\n",
    "ames['MasVnrArea'].loc[1554] = 0\n",
    "ames['MasVnrArea'].loc[2034] = 0\n",
    "ames['MasVnrArea'].loc[2478] = 0\n",
    "ames['MasVnrArea'].loc[2537] = 0\n",
    "\n",
    "# ames.to_csv('Data/Clean_Ames_HousePrice.csv')"
   ]
  },
  {
   "cell_type": "markdown",
   "id": "03e34f47",
   "metadata": {},
   "source": [
    "Import the cleaned data into a new dataframe"
   ]
  },
  {
   "cell_type": "code",
   "execution_count": 3,
   "id": "237b9cbb",
   "metadata": {},
   "outputs": [],
   "source": [
    "# Analysis of Ames_HousePrice.csv starts here\n",
    "data_House_price=ames"
   ]
  },
  {
   "cell_type": "markdown",
   "id": "30365552",
   "metadata": {},
   "source": [
    "There are houses with no garages that still need values assigned to them for the year built. So, for simplicity those cases shall be the year the house was built or remodeled, whichever was more recent."
   ]
  },
  {
   "cell_type": "code",
   "execution_count": 4,
   "id": "16fa0fd0",
   "metadata": {},
   "outputs": [],
   "source": [
    "# Assign dummy values for houses with garages that do not have them\n",
    "no_garage = data_House_price.loc[data_House_price.GarageYrBlt == 'NA'].index.to_list()\n",
    "for i in no_garage:\n",
    "    data_House_price.loc[i,'GarageYrBlt'] = max(data_House_price.loc[i,'YearBuilt'],data_House_price.loc[i,'YearRemodAdd'])"
   ]
  },
  {
   "cell_type": "markdown",
   "id": "a3b33090",
   "metadata": {},
   "source": [
    "Assess the number of unique parcels denoted by PID."
   ]
  },
  {
   "cell_type": "code",
   "execution_count": 5,
   "id": "63f0fe40",
   "metadata": {},
   "outputs": [
    {
     "name": "stdout",
     "output_type": "stream",
     "text": [
      "909276070    2\n",
      "909176150    1\n",
      "528292070    1\n",
      "909250220    1\n",
      "534450150    1\n",
      "            ..\n",
      "531452260    1\n",
      "528488130    1\n",
      "923229010    1\n",
      "528382020    1\n",
      "906223180    1\n",
      "Name: PID, Length: 2579, dtype: int64\n",
      "(2580, 81)\n"
     ]
    }
   ],
   "source": [
    "pid=data_House_price.PID.unique()\n",
    "print(data_House_price['PID'].value_counts())\n",
    "print(data_House_price.shape)"
   ]
  },
  {
   "cell_type": "markdown",
   "id": "84979d4f",
   "metadata": {},
   "source": [
    "Further cleaning of data to be performed."
   ]
  },
  {
   "cell_type": "code",
   "execution_count": 6,
   "id": "081bc1f2",
   "metadata": {},
   "outputs": [
    {
     "name": "stderr",
     "output_type": "stream",
     "text": [
      "/var/folders/kg/5clnm8vj1jz2tlvmfxjvq3_00000gn/T/ipykernel_2407/1236823908.py:7: SettingWithCopyWarning:\n",
      "\n",
      "\n",
      "A value is trying to be set on a copy of a slice from a DataFrame.\n",
      "Try using .loc[row_indexer,col_indexer] = value instead\n",
      "\n",
      "See the caveats in the documentation: https://pandas.pydata.org/pandas-docs/stable/user_guide/indexing.html#returning-a-view-versus-a-copy\n",
      "\n"
     ]
    }
   ],
   "source": [
    "# Remove duplicates\n",
    "data_House_price=data_House_price.drop_duplicates(subset=None, keep='first', inplace=False)\n",
    "duplicate_obersvation = data_House_price[data_House_price.duplicated()]\n",
    "\n",
    "# Create new column since built or remodeled\n",
    "data_House_price['YearRemodAdd']\n",
    "data_House_price['YearSinceBuiltRemodeled']=data_House_price['YrSold']-data_House_price['YearRemodAdd']"
   ]
  },
  {
   "cell_type": "markdown",
   "id": "d4bef737",
   "metadata": {},
   "source": [
    "Encode various variables and perform **Multilinear Regression**."
   ]
  },
  {
   "cell_type": "code",
   "execution_count": 7,
   "id": "0a112590",
   "metadata": {},
   "outputs": [
    {
     "name": "stdout",
     "output_type": "stream",
     "text": [
      "0.8116536008490594\n",
      "                            OLS Regression Results                            \n",
      "==============================================================================\n",
      "Dep. Variable:              SalePrice   R-squared:                       0.812\n",
      "Model:                            OLS   Adj. R-squared:                  0.810\n",
      "Method:                 Least Squares   F-statistic:                     690.0\n",
      "Date:                Sun, 22 May 2022   Prob (F-statistic):               0.00\n",
      "Time:                        23:40:48   Log-Likelihood:                -30458.\n",
      "No. Observations:                2579   AIC:                         6.095e+04\n",
      "Df Residuals:                    2562   BIC:                         6.105e+04\n",
      "Df Model:                          16                                         \n",
      "Covariance Type:            nonrobust                                         \n",
      "====================================================================================\n",
      "                       coef    std err          t      P>|t|      [0.025      0.975]\n",
      "------------------------------------------------------------------------------------\n",
      "const            -1.208e+06   7.73e+04    -15.622      0.000   -1.36e+06   -1.06e+06\n",
      "LotArea              0.8312      0.093      8.941      0.000       0.649       1.013\n",
      "GrLivArea           79.8941      2.083     38.356      0.000      75.810      83.978\n",
      "BedroomAbvGr     -1.667e+04   1019.761    -16.351      0.000   -1.87e+04   -1.47e+04\n",
      "LandSlope         7973.3793   2872.470      2.776      0.006    2340.781    1.36e+04\n",
      "YearBuilt          602.3419     35.365     17.032      0.000     532.996     671.688\n",
      "BldgType         -5631.4116    616.328     -9.137      0.000   -6839.963   -4422.860\n",
      "OverallQual       2.085e+04    735.738     28.335      0.000    1.94e+04    2.23e+04\n",
      "OverallCond       5301.4054    657.545      8.062      0.000    4012.031    6590.780\n",
      "PavedDrive_P     -5903.9596   4910.599     -1.202      0.229   -1.55e+04    3725.186\n",
      "PavedDrive_Y     -2967.1160   2878.423     -1.031      0.303   -8611.388    2677.156\n",
      "MSZoning_C (all) -7128.5987   3.38e+04     -0.211      0.833   -7.35e+04    5.92e+04\n",
      "MSZoning_FV      -1.042e+04   3.32e+04     -0.314      0.754   -7.55e+04    5.47e+04\n",
      "MSZoning_I (all) -1.575e+04   4.02e+04     -0.392      0.695   -9.45e+04     6.3e+04\n",
      "MSZoning_RH      -1.243e+04   3.37e+04     -0.368      0.713   -7.86e+04    5.37e+04\n",
      "MSZoning_RL      -2722.0512    3.3e+04     -0.082      0.934   -6.74e+04     6.2e+04\n",
      "MSZoning_RM      -1.197e+04    3.3e+04     -0.362      0.717   -7.68e+04    5.28e+04\n",
      "==============================================================================\n",
      "Omnibus:                      809.833   Durbin-Watson:                   2.065\n",
      "Prob(Omnibus):                  0.000   Jarque-Bera (JB):            25635.580\n",
      "Skew:                           0.844   Prob(JB):                         0.00\n",
      "Kurtosis:                      18.353   Cond. No.                     1.96e+06\n",
      "==============================================================================\n",
      "\n",
      "Notes:\n",
      "[1] Standard Errors assume that the covariance matrix of the errors is correctly specified.\n",
      "[2] The condition number is large, 1.96e+06. This might indicate that there are\n",
      "strong multicollinearity or other numerical problems.\n"
     ]
    },
    {
     "name": "stderr",
     "output_type": "stream",
     "text": [
      "/Users/jchatterjee/opt/anaconda3/lib/python3.9/site-packages/pandas/core/frame.py:3678: SettingWithCopyWarning:\n",
      "\n",
      "\n",
      "A value is trying to be set on a copy of a slice from a DataFrame.\n",
      "Try using .loc[row_indexer,col_indexer] = value instead\n",
      "\n",
      "See the caveats in the documentation: https://pandas.pydata.org/pandas-docs/stable/user_guide/indexing.html#returning-a-view-versus-a-copy\n",
      "\n",
      "/Users/jchatterjee/opt/anaconda3/lib/python3.9/site-packages/statsmodels/tsa/tsatools.py:142: FutureWarning:\n",
      "\n",
      "In a future version of pandas all arguments of concat except for the argument 'objs' will be keyword-only\n",
      "\n"
     ]
    }
   ],
   "source": [
    "from sklearn.preprocessing import OneHotEncoder, OrdinalEncoder\n",
    "#Numerical:\n",
    "#LotArea, GrLivArea, YearBuilt,BedroomAbvGr,\n",
    "\n",
    "#Nominal Categorical:\n",
    "    \n",
    "    #BldgType :1Fam,2FmCon,TwnhsE,Twnhs,Duplex\n",
    "    #OverallQual\n",
    "    #OverallCond\n",
    "    #LandSlope: Gtl,Mod,Sev\n",
    "    \n",
    "#conditional:\n",
    "    #PavedDrive,MSZoning\n",
    "    \n",
    "multi_linear_var=data_House_price[['SalePrice','LotArea', 'GrLivArea', 'BedroomAbvGr','LandSlope','YearBuilt', \\\n",
    "                                   'MSZoning','BldgType','OverallQual','OverallCond','PavedDrive']]    \n",
    "\n",
    "multi_linear_var\n",
    "\n",
    "enc = OrdinalEncoder()\n",
    "enc.fit(multi_linear_var[[\"OverallQual\",\"BldgType\",\"OverallCond\",\"LandSlope\"]])\n",
    "multi_linear_var[[\"OverallQual\",\"BldgType\",\"OverallCond\",\"LandSlope\"]] = enc.transform(multi_linear_var[[\"OverallQual\",\"BldgType\",\"OverallCond\",\"LandSlope\"]])\n",
    "\n",
    "multi_linear_var = pd.get_dummies(multi_linear_var, columns = ['PavedDrive'],drop_first = True)\n",
    "multi_linear_var = pd.get_dummies(multi_linear_var, columns = ['MSZoning'],drop_first = True)\n",
    "\n",
    "x2=multi_linear_var.iloc[: , 1:]\n",
    "y2=multi_linear_var['SalePrice']\n",
    "\n",
    "ols2 = linear_model.LinearRegression()\n",
    "lm_test2=ols2.fit(x2, y2)\n",
    "print(lm_test2.score(x2, y2))\n",
    "###################Summary\n",
    "\n",
    "features2 = sm.add_constant(x2)\n",
    "ols_sm2   = OLS(y2,features2)\n",
    "lm_test2_1    = ols_sm2.fit()\n",
    "\n",
    "print(lm_test2_1.summary())"
   ]
  },
  {
   "cell_type": "markdown",
   "id": "caafe667",
   "metadata": {},
   "source": [
    "Further refine the data to exclude more irrelevant variables"
   ]
  },
  {
   "cell_type": "code",
   "execution_count": 8,
   "id": "8c8e84d5",
   "metadata": {},
   "outputs": [],
   "source": [
    "# Removing Mszoning FV, C, I, A\n",
    "data_House_price = data_House_price[(data_House_price['MSZoning']!='FV')]\n",
    "data_House_price = data_House_price[(data_House_price['MSZoning']!='C (all)')]\n",
    "data_House_price = data_House_price[(data_House_price['MSZoning']!='I (all)')]\n",
    "data_House_price = data_House_price[(data_House_price['MSZoning']!='A (agr)')]\n",
    "\n",
    "# Only include houses the were sold under normal conditions\n",
    "data_House_price = data_House_price[(data_House_price['SaleCondition']=='Normal')]\n",
    "\n",
    "# Remove type of street, miscellaneous features, and utilities from the model\n",
    "data_House_price=data_House_price.drop(['Street','MiscFeature','Utilities'], axis=1)"
   ]
  },
  {
   "cell_type": "markdown",
   "id": "b28d8c45",
   "metadata": {},
   "source": [
    "Simplify month of sale into seasons."
   ]
  },
  {
   "cell_type": "code",
   "execution_count": 9,
   "id": "fdcfd106",
   "metadata": {},
   "outputs": [],
   "source": [
    "def get_season(mnth):\n",
    "    if (mnth in {12,1,2}):\n",
    "        return(\"Winter\")\n",
    "    if (mnth in {3,4,5}):\n",
    "        return(\"Spring\")\n",
    "    if (mnth in {6,7,8}):\n",
    "        return(\"Summer\")\n",
    "    if (mnth in {9,10,11}):\n",
    "        return(\"Autumn\")\n",
    "    \n",
    "data_House_price['Season'] = data_House_price.apply (lambda row : get_season(row['MoSold']), axis=1)    \n",
    "#print(get_season(data_orders['Order.Date'][1]))"
   ]
  },
  {
   "cell_type": "markdown",
   "id": "7ae0f1ef",
   "metadata": {},
   "source": [
    "Clean and refine the data further to encode and simplify more variables."
   ]
  },
  {
   "cell_type": "code",
   "execution_count": 10,
   "id": "42e787b8",
   "metadata": {},
   "outputs": [
    {
     "data": {
      "image/png": "[encoded data removed]",
      "text/plain": [
       "<Figure size 1944x648 with 1 Axes>"
      ]
     },
     "metadata": {},
     "output_type": "display_data"
    }
   ],
   "source": [
    "tmp=data_House_price\n",
    "\n",
    "tmp['Alley']=tmp['Alley'].replace({'Grvl':1, 'Pave': 1, 'NA': 0})\n",
    "tmp['CentralAir']=tmp['CentralAir'].replace({'Y': 1, 'N': 0})\n",
    "\n",
    "####################merging condition1 and condition2 into one feature###################################\n",
    "#2 if by positive feature, 1 if normal, 0 if negative feature. \n",
    "import seaborn as sns\n",
    "tmp['Condition2'].unique()\n",
    "tmp['positive_condition1'] = tmp['Condition1']\n",
    "tmp['positive_condition2'] = tmp['Condition2']\n",
    "tmp_condition_columns = tmp[['positive_condition2', 'positive_condition1']]\n",
    "\n",
    "dict_ordinal = {\n",
    "   'Artery':0,\n",
    "    'RRNe':0,\n",
    "    'RRAe':0,\n",
    "    'Feedr':0,\n",
    "    'RRAn':0,\n",
    "    'Norm':1,\n",
    "    'RRNn':0,\n",
    "    'PosN':2,\n",
    "    'PosA':2,\n",
    "        }\n",
    "\n",
    "# Loop to get the job done\n",
    "for i in tmp_condition_columns.columns:\n",
    "    tmp.replace({i: dict_ordinal},inplace = True)\n",
    "\n",
    "tmp['local_conditions'] = tmp['positive_condition1']+tmp['positive_condition2']\n",
    "# This a combined measure of local features. Railroads and busy streets are just not quite as nice\n",
    "# to live by as are greenbelts and parks and even normal places\n",
    "\n",
    "sns.regplot(x=tmp['local_conditions'],y=tmp['SalePrice'])\n",
    "tmp=tmp.drop(['positive_condition1','positive_condition2'],axis=1)\n",
    "\n",
    "###########################################################################################################\n",
    "\n",
    "tmp['Electrical']=tmp['Electrical'].replace({'SBrkr':1, 'FuseA': 0, 'FuseF': 0, 'FuseP': 0})\n",
    "tmp['PavedDrive']=tmp['PavedDrive'].replace({'Y':1, 'N': 0, 'P': 0})\n",
    "\n",
    "###################################################################################################\n",
    "tmp['SaleType']=tmp['SaleType'].replace({'WD':'Warranty_Deed', 'CWD': 'Warranty_Deed', 'VWD': 'Warranty_Deed',\n",
    "                                     'Con':'Contract', 'ConLw':'Contract', 'ConLI':'Contract',\n",
    "                                     'ConLD':'Contract', 'New':'Other', 'COD':'Other', 'Oth':'Other' })\n",
    "\n",
    "###############################################################################################################\n",
    "tmp['PoolArea']=tmp['PoolArea'].where(tmp['PoolArea'] == 0, 1)\n",
    "###############################################################################################################\n",
    "\n",
    "data_House_price=tmp"
   ]
  },
  {
   "cell_type": "markdown",
   "id": "a34a4772",
   "metadata": {},
   "source": [
    "Dummify various ordinal variables."
   ]
  },
  {
   "cell_type": "code",
   "execution_count": 11,
   "id": "98fae517",
   "metadata": {},
   "outputs": [],
   "source": [
    "########################################Add all cleaning before this##################################################\n",
    "# Decide how to map string values to numerical values for ordinal variables\n",
    "Ordstr = ['ExterQual','ExterCond', 'BsmtQual','HeatingQC','KitchenQual', \n",
    "          'Fence','MasVnrType','LotShape','Foundation','GarageFinish']\n",
    "\n",
    "ord2dummies01 = {'Ex':4, 'Gd':3, 'TA':2, 'Fa':1, 'Po':0}\n",
    "ord_vars01 = ['ExterQual','ExterCond','HeatingQC','KitchenQual']\n",
    "\n",
    "ord2dummies02 = {'Ex':5, 'Gd':4, 'TA':3, 'Fa':2, 'Po':1, \"NA\":0}\n",
    "ord_vars02 = ['BsmtQual']\n",
    "\n",
    "# ord2dummies03 = {'Gd':4, 'Av':3, 'Mn':2, 'No':1, 'NA':0}\n",
    "# ord_vars03 = ['BsmtExposure']\n",
    "\n",
    "# ord2dummies04 = {'GLQ':6, 'ALQ':5, 'BLQ':4, 'Rec':3, 'LwQ':2, 'Unf':1, 'NA':0}\n",
    "# ord_vars04 = ['BsmtFinType1','BsmtFinType2']\n",
    "\n",
    "ord2dummies06 = {'GdPrv':4, 'MnPrv':3, 'GdWo':2, 'MnWw':1, 'NA':0}\n",
    "ord_vars06 = ['Fence']\n",
    "\n",
    "ord2dummies07 = {'Stone':4,'BrkCmn':3,'BrkFace':2,'CBlock':1,'None':0}\n",
    "ord_vars07 = ['MasVnrType']\n",
    "\n",
    "ord2dummies08 = {'Reg':3,'IR1':2,'IR2':1,'IR3':0}\n",
    "ord_vars08 = ['LotShape']\n",
    "\n",
    "# ord2dummies09 = {'PConc':5,'Slab':4,'CBlock':3,'BrkTil':2,'Stone':1,'Wood':0}\n",
    "# ord_vars09 = ['Foundation']\n",
    "\n",
    "ord2dummies10 = {'Fin':3,'RFn':2,'Unf':1,'NA':0}\n",
    "ord_vars10 = ['GarageFinish']"
   ]
  },
  {
   "cell_type": "code",
   "execution_count": 12,
   "id": "c2ad4cdc",
   "metadata": {},
   "outputs": [],
   "source": [
    "# Map the values in the dataframe\n",
    "for i in ord_vars01:\n",
    "    data_House_price[i].replace(ord2dummies01, inplace=True)\n",
    "\n",
    "for i in ord_vars02:\n",
    "    data_House_price[i].replace(ord2dummies02, inplace=True)\n",
    "    \n",
    "# for i in ord_vars03:\n",
    "#     data_House_price[i].replace(ord2dummies03, inplace=True)\n",
    "\n",
    "# for i in ord_vars04:\n",
    "#     data_House_price[i].replace(ord2dummies04, inplace=True)    \n",
    "\n",
    "for i in ord_vars06:\n",
    "    data_House_price[i].replace(ord2dummies06, inplace=True)\n",
    "    \n",
    "for i in ord_vars07:\n",
    "    data_House_price[i].replace(ord2dummies07, inplace=True)\n",
    "\n",
    "for i in ord_vars08:\n",
    "    data_House_price[i].replace(ord2dummies08, inplace=True)\n",
    "\n",
    "# for i in ord_vars09:\n",
    "#     data_House_price[i].replace(ord2dummies09, inplace=True)\n",
    "    \n",
    "for i in ord_vars10:\n",
    "    data_House_price[i].replace(ord2dummies10, inplace=True)\n",
    "    \n",
    "# Assign a binary value for whether or not a house has a pool\n",
    "#data_House_price.loc[data_House_price['PoolArea'] > 0] = 1"
   ]
  },
  {
   "cell_type": "markdown",
   "id": "442fcdfb",
   "metadata": {},
   "source": [
    "Dummify various nominal variables."
   ]
  },
  {
   "cell_type": "code",
   "execution_count": 13,
   "id": "fca8df31",
   "metadata": {},
   "outputs": [],
   "source": [
    "Nomstr = ['MSZoning','Alley','LandContour','LotConfig','Neighborhood','local_conditions','HouseStyle','RoofStyle', \\\n",
    "          'MasVnrType','CentralAir','Electrical','PavedDrive','SaleType','PoolArea','Foundation','Season']\n",
    "for i in Nomstr:   \n",
    "    dummy = pd.get_dummies(data_House_price[i], prefix=i, prefix_sep='__')\n",
    "    dummy = dummy.drop(i+'__'+str(data_House_price[i].mode()[0]), axis=1)\n",
    "    data_House_price = pd.concat([data_House_price.drop(i, axis=1), dummy], axis=1)"
   ]
  },
  {
   "cell_type": "code",
   "execution_count": 14,
   "id": "062fdf31",
   "metadata": {},
   "outputs": [],
   "source": [
    "##########################Nearest Neighbor here##################################\n",
    "# tmp1=data_House_price\n",
    "# from sklearn.neighbors import NearestNeighbors\n",
    "# X_nei = tmp1['Neighborhood']\n",
    "# X_nei.unique()\n",
    "# n_nei=X_nei.shape[0]//6\n",
    "# neigh = NearestNeighbors(n_neighbors=n_nei)\n",
    "# neigh.fit(X_nei)\n",
    "# NearestNeighbors(n_neighbors=n_nei)\n",
    "# A = neigh.kneighbors_graph(X)"
   ]
  },
  {
   "cell_type": "markdown",
   "id": "aaa9e6c0",
   "metadata": {},
   "source": [
    "Check for columns missing data."
   ]
  },
  {
   "cell_type": "code",
   "execution_count": 15,
   "id": "8da4f0eb",
   "metadata": {},
   "outputs": [
    {
     "name": "stdout",
     "output_type": "stream",
     "text": [
      "Series([], dtype: int64)\n"
     ]
    }
   ],
   "source": [
    "missingCols = np.sum(data_House_price.isnull())\n",
    "print(missingCols[missingCols>0])"
   ]
  },
  {
   "cell_type": "markdown",
   "id": "336a4049",
   "metadata": {},
   "source": [
    "Drop various variables and perform **Logistic Regression**."
   ]
  },
  {
   "cell_type": "code",
   "execution_count": 16,
   "id": "18279deb",
   "metadata": {
    "scrolled": true
   },
   "outputs": [
    {
     "name": "stdout",
     "output_type": "stream",
     "text": [
      "Intercept: 9.570264\n",
      "Coefficients: [ 3.82738551e-01  2.53233961e-02  9.13983420e-02 -3.53030994e+09\n",
      "  5.64767171e-02  3.78329028e-02  1.93453359e-02  1.06858072e-02\n",
      "  3.45310676e-02  7.20157474e-03  1.40236989e-02  6.87479489e-02\n",
      " -9.03606415e-05  7.52576441e-03  1.97613910e-02  3.33556533e-02\n",
      " -5.62763214e-03  2.95867100e-02  1.63859501e-02  1.52349472e-04\n",
      "  5.96046448e-05  1.70588493e-04  5.44190407e-05  1.76012516e-04\n",
      "  1.92105770e-04  1.20437890e-03 -1.37869362e-03 -9.58867605e+06\n",
      " -4.83632088e-04 -6.26366442e-02 -2.74765259e-02 -2.39711099e-02\n",
      "  2.18013469e-02  4.57235933e-02 -1.86866677e-02 -2.24243500e-04\n",
      " -4.89565071e-02 -3.38905965e-02  8.37731893e-02  6.84129340e-02\n",
      "  7.72652198e-02  4.91403600e-02  5.68193272e-02  4.74276384e-02\n",
      "  9.41953305e-02 -2.77270311e-02  2.71840673e-02  1.25802848e-01\n",
      "  5.86269340e-01 -5.30043524e-03  5.64678993e-02 -3.52752483e-02\n",
      "  3.32225934e-02  9.74587736e-02  6.21251436e-03  1.54085527e-01\n",
      "  1.32237094e-01 -4.62336077e-02 -2.42370809e-03  2.37048026e-02\n",
      "  6.29835902e-03  9.60580023e-02  1.26291322e-01  7.58688448e-02\n",
      "  1.09562201e-01 -9.51937062e-02 -4.69404924e-02  1.36029935e-02\n",
      "  1.95731226e-01 -3.64298895e-02  1.02598919e-04 -5.35595370e-03\n",
      "  5.15802763e-04 -3.99995446e-02  6.45863786e-02 -2.54043192e-03\n",
      "  6.34516810e-02  3.05647082e-02  1.14609474e-02 -5.17368980e-03\n",
      "  1.49839524e-02  6.89876638e-03 -4.23137952e-02  7.26978621e-03\n",
      " -4.51023455e-02 -1.44254013e-02 -5.17879964e-02  2.39214700e-02\n",
      " -2.58569277e-02  4.42248911e-02 -5.52370693e-02  2.25470215e-02\n",
      "  7.40754593e-02 -5.41097909e-03 -1.98439698e-02 -2.87447041e-02\n",
      " -5.98126138e-03 -5.30819548e-03]\n",
      "R^2: 0.932636\n",
      "R^2: 0.926981\n",
      "                            OLS Regression Results                            \n",
      "==============================================================================\n",
      "Dep. Variable:              SalePrice   R-squared:                       0.933\n",
      "Model:                            OLS   Adj. R-squared:                  0.929\n",
      "Method:                 Least Squares   F-statistic:                     251.9\n",
      "Date:                Sun, 22 May 2022   Prob (F-statistic):               0.00\n",
      "Time:                        23:40:48   Log-Likelihood:                 1695.2\n",
      "No. Observations:                1844   AIC:                            -3196.\n",
      "Df Residuals:                    1747   BIC:                            -2661.\n",
      "Df Model:                          96                                         \n",
      "Covariance Type:            nonrobust                                         \n",
      "===========================================================================================\n",
      "                              coef    std err          t      P>|t|      [0.025      0.975]\n",
      "-------------------------------------------------------------------------------------------\n",
      "const                       9.6026      3.658      2.625      0.009       2.429      16.776\n",
      "GrLivArea                   0.3829      0.031     12.238      0.000       0.322       0.444\n",
      "LotFrontage                 0.0255      0.013      2.006      0.045       0.001       0.050\n",
      "LotArea                     0.0911      0.009     10.243      0.000       0.074       0.109\n",
      "LandSlope                2.113e-10   8.05e-11      2.625      0.009    5.34e-11    3.69e-10\n",
      "OverallQual                 0.0565      0.003     16.422      0.000       0.050       0.063\n",
      "OverallCond                 0.0378      0.003     13.462      0.000       0.032       0.043\n",
      "ExterQual                   0.0195      0.007      2.628      0.009       0.005       0.034\n",
      "ExterCond                   0.0107      0.007      1.554      0.120      -0.003       0.024\n",
      "BsmtQual                    0.0344      0.006      5.447      0.000       0.022       0.047\n",
      "TotalBsmtSF                 0.0073      0.002      3.235      0.001       0.003       0.012\n",
      "HeatingQC                   0.0141      0.003      4.351      0.000       0.008       0.020\n",
      "1stFlrSF                    0.0685      0.026      2.681      0.007       0.018       0.119\n",
      "LowQualFinSF            -9.134e-05   5.22e-05     -1.750      0.080      -0.000     1.1e-05\n",
      "FullBath                    0.0075      0.007      1.026      0.305      -0.007       0.022\n",
      "HalfBath                    0.0197      0.007      2.673      0.008       0.005       0.034\n",
      "KitchenQual                 0.0332      0.006      5.876      0.000       0.022       0.044\n",
      "TotRmsAbvGrd               -0.0056      0.003     -1.916      0.056      -0.011       0.000\n",
      "Fireplaces                  0.0296      0.005      6.422      0.000       0.021       0.039\n",
      "GarageFinish                0.0163      0.004      4.292      0.000       0.009       0.024\n",
      "GarageArea                  0.0002   1.64e-05      9.310      0.000       0.000       0.000\n",
      "WoodDeckSF               6.016e-05   1.99e-05      3.018      0.003    2.11e-05    9.93e-05\n",
      "OpenPorchSF                 0.0002   4.14e-05      4.124      0.000    8.95e-05       0.000\n",
      "EnclosedPorch            5.425e-05   3.88e-05      1.397      0.163   -2.19e-05       0.000\n",
      "3SsnPorch                   0.0002   9.93e-05      1.773      0.076   -1.87e-05       0.000\n",
      "ScreenPorch                 0.0002   4.52e-05      4.251      0.000       0.000       0.000\n",
      "Fence                       0.0012      0.002      0.608      0.543      -0.003       0.005\n",
      "YrSold                     -0.0014      0.002     -0.764      0.445      -0.005       0.002\n",
      "SaleCondition            2.933e-15   1.15e-15      2.541      0.011    6.69e-16     5.2e-15\n",
      "YearSinceBuiltRemodeled    -0.0005      0.000     -2.659      0.008      -0.001      -0.000\n",
      "MSZoning__RH               -0.0626      0.028     -2.236      0.025      -0.118      -0.008\n",
      "MSZoning__RM               -0.0275      0.013     -2.157      0.031      -0.052      -0.002\n",
      "LandContour__Bnk           -0.0240      0.013     -1.850      0.064      -0.049       0.001\n",
      "LandContour__HLS            0.0218      0.014      1.604      0.109      -0.005       0.048\n",
      "LandContour__Low            0.0457      0.019      2.427      0.015       0.009       0.083\n",
      "LotConfig__Corner          -0.0187      0.007     -2.815      0.005      -0.032      -0.006\n",
      "LotConfig__CulDSac         -0.0002      0.011     -0.019      0.985      -0.022       0.022\n",
      "LotConfig__FR2             -0.0490      0.015     -3.251      0.001      -0.078      -0.019\n",
      "LotConfig__FR3             -0.0339      0.036     -0.942      0.346      -0.104       0.037\n",
      "Neighborhood__Blmngtn       0.0838      0.030      2.827      0.005       0.026       0.142\n",
      "Neighborhood__Blueste       0.0684      0.046      1.500      0.134      -0.021       0.158\n",
      "Neighborhood__BrDale        0.0773      0.031      2.464      0.014       0.016       0.139\n",
      "Neighborhood__BrkSide       0.0491      0.017      2.964      0.003       0.017       0.082\n",
      "Neighborhood__ClearCr       0.0568      0.022      2.594      0.010       0.014       0.100\n",
      "Neighborhood__CollgCr       0.0474      0.013      3.749      0.000       0.023       0.072\n",
      "Neighborhood__Crawfor       0.0942      0.015      6.238      0.000       0.065       0.124\n",
      "Neighborhood__Edwards      -0.0277      0.011     -2.415      0.016      -0.050      -0.005\n",
      "Neighborhood__Gilbert       0.0272      0.016      1.745      0.081      -0.003       0.058\n",
      "Neighborhood__Greens        0.1258      0.041      3.045      0.002       0.045       0.207\n",
      "Neighborhood__GrnHill       0.5863      0.073      7.996      0.000       0.442       0.730\n",
      "Neighborhood__IDOTRR       -0.0053      0.021     -0.248      0.804      -0.047       0.037\n",
      "Neighborhood__Landmrk       0.0565      0.104      0.540      0.589      -0.149       0.261\n",
      "Neighborhood__MeadowV      -0.0353      0.026     -1.368      0.171      -0.086       0.015\n",
      "Neighborhood__Mitchel       0.0333      0.014      2.437      0.015       0.006       0.060\n",
      "Neighborhood__NPkVill       0.0975      0.029      3.418      0.001       0.042       0.153\n",
      "Neighborhood__NWAmes        0.0062      0.014      0.459      0.646      -0.020       0.033\n",
      "Neighborhood__NoRidge       0.1541      0.019      8.260      0.000       0.117       0.191\n",
      "Neighborhood__NridgHt       0.1322      0.017      7.557      0.000       0.098       0.167\n",
      "Neighborhood__OldTown      -0.0462      0.016     -2.893      0.004      -0.078      -0.015\n",
      "Neighborhood__SWISU        -0.0024      0.020     -0.119      0.905      -0.043       0.038\n",
      "Neighborhood__Sawyer        0.0237      0.012      2.058      0.040       0.001       0.046\n",
      "Neighborhood__SawyerW       0.0063      0.015      0.421      0.673      -0.023       0.036\n",
      "Neighborhood__Somerst       0.0961      0.028      3.477      0.001       0.042       0.150\n",
      "Neighborhood__StoneBr       0.1263      0.024      5.252      0.000       0.079       0.173\n",
      "Neighborhood__Timber        0.0759      0.018      4.101      0.000       0.040       0.112\n",
      "Neighborhood__Veenker       0.1095      0.026      4.136      0.000       0.058       0.161\n",
      "local_conditions__0        -0.0952      0.028     -3.386      0.001      -0.150      -0.040\n",
      "local_conditions__1        -0.0469      0.008     -5.848      0.000      -0.063      -0.031\n",
      "local_conditions__3         0.0136      0.017      0.816      0.415      -0.019       0.046\n",
      "local_conditions__4         0.1957      0.059      3.308      0.001       0.080       0.312\n",
      "HouseStyle__1.5Fin         -0.0365      0.014     -2.541      0.011      -0.065      -0.008\n",
      "HouseStyle__1.5Unf          0.0001      0.028      0.004      0.997      -0.055       0.056\n",
      "HouseStyle__2.5Fin         -0.0054      0.058     -0.093      0.926      -0.118       0.107\n",
      "HouseStyle__2.5Unf          0.0005      0.030      0.017      0.987      -0.059       0.060\n",
      "HouseStyle__2Story         -0.0400      0.017     -2.350      0.019      -0.073      -0.007\n",
      "HouseStyle__SFoyer          0.0646      0.015      4.208      0.000       0.034       0.095\n",
      "HouseStyle__SLvl           -0.0025      0.012     -0.208      0.835      -0.026       0.021\n",
      "RoofStyle__Flat             0.0634      0.030      2.107      0.035       0.004       0.123\n",
      "RoofStyle__Gambrel          0.0306      0.027      1.139      0.255      -0.022       0.083\n",
      "RoofStyle__Hip              0.0115      0.007      1.687      0.092      -0.002       0.025\n",
      "RoofStyle__Mansard         -0.0052      0.039     -0.132      0.895      -0.082       0.072\n",
      "RoofStyle__Shed             0.0150      0.053      0.285      0.776      -0.088       0.118\n",
      "MasVnrType__2               0.0069      0.006      1.072      0.284      -0.006       0.020\n",
      "MasVnrType__3              -0.0423      0.027     -1.546      0.122      -0.096       0.011\n",
      "MasVnrType__4               0.0073      0.011      0.638      0.524      -0.015       0.030\n",
      "CentralAir__0              -0.0451      0.012     -3.831      0.000      -0.068      -0.022\n",
      "Electrical__0              -0.0144      0.010     -1.517      0.130      -0.033       0.004\n",
      "PavedDrive__0              -0.0518      0.010     -5.417      0.000      -0.071      -0.033\n",
      "SaleType__Contract          0.0239      0.022      1.112      0.266      -0.018       0.066\n",
      "SaleType__Other            -0.0259      0.019     -1.376      0.169      -0.063       0.011\n",
      "PoolArea__1                 0.0442      0.043      1.028      0.304      -0.040       0.129\n",
      "Foundation__BrkTil         -0.0552      0.010     -5.619      0.000      -0.075      -0.036\n",
      "Foundation__PConc           0.0226      0.008      2.717      0.007       0.006       0.039\n",
      "Foundation__Slab            0.0741      0.031      2.426      0.015       0.014       0.134\n",
      "Foundation__Stone          -0.0054      0.043     -0.126      0.899      -0.089       0.079\n",
      "Foundation__Wood           -0.0198      0.046     -0.427      0.669      -0.111       0.071\n",
      "Season__Autumn             -0.0287      0.007     -3.959      0.000      -0.043      -0.015\n",
      "Season__Spring             -0.0060      0.006     -1.070      0.285      -0.017       0.005\n",
      "Season__Winter             -0.0053      0.008     -0.669      0.504      -0.021       0.010\n",
      "==============================================================================\n",
      "Omnibus:                      157.990   Durbin-Watson:                   2.029\n",
      "Prob(Omnibus):                  0.000   Jarque-Bera (JB):              467.885\n",
      "Skew:                          -0.437   Prob(JB):                    2.51e-102\n",
      "Kurtosis:                       5.308   Cond. No.                     1.00e+16\n",
      "==============================================================================\n",
      "\n",
      "Notes:\n",
      "[1] Standard Errors assume that the covariance matrix of the errors is correctly specified.\n",
      "[2] The smallest eigenvalue is 7.83e-23. This might indicate that there are\n",
      "strong multicollinearity problems or that the design matrix is singular.\n"
     ]
    },
    {
     "name": "stderr",
     "output_type": "stream",
     "text": [
      "/var/folders/kg/5clnm8vj1jz2tlvmfxjvq3_00000gn/T/ipykernel_2407/2315862077.py:16: SettingWithCopyWarning:\n",
      "\n",
      "\n",
      "A value is trying to be set on a copy of a slice from a DataFrame\n",
      "\n",
      "See the caveats in the documentation: https://pandas.pydata.org/pandas-docs/stable/user_guide/indexing.html#returning-a-view-versus-a-copy\n",
      "\n",
      "/Users/jchatterjee/opt/anaconda3/lib/python3.9/site-packages/statsmodels/tsa/tsatools.py:142: FutureWarning:\n",
      "\n",
      "In a future version of pandas all arguments of concat except for the argument 'objs' will be keyword-only\n",
      "\n"
     ]
    }
   ],
   "source": [
    "x = data_House_price.drop(['PID','SalePrice','MSSubClass','Condition1','Condition2','BldgType','YearBuilt','YearRemodAdd', \\\n",
    "                           'RoofMatl','Exterior1st','Exterior2nd','MasVnrArea','BsmtCond','BsmtExposure','BsmtFinType1', \\\n",
    "                           'BsmtFinSF1','BsmtFinType2','BsmtFinSF2','BsmtUnfSF','Heating','2ndFlrSF','BsmtFullBath', \\\n",
    "                           'BsmtHalfBath','BedroomAbvGr','KitchenAbvGr','Functional','FireplaceQu', 'GarageType', \\\n",
    "                           'GarageYrBlt','GarageCars','GarageQual','GarageCond','PoolQC','MiscVal','Alley__1','LotShape', \\\n",
    "                           'MoSold'],axis=1)\n",
    "\n",
    "# These are the parameters for which a logistic regression shall me performed\n",
    "x_log = ['GrLivArea','LotArea','TotalBsmtSF','LotFrontage','1stFlrSF']\n",
    "x_log_index = x.index.to_list()\n",
    "\n",
    "# Bump up values for zero in order to compute logistic regression\n",
    "for j in x_log:\n",
    "    for i in x_log_index:\n",
    "        if x[j][i] == 0:\n",
    "            x[j][i] += 0.001\n",
    "        else:\n",
    "            pass\n",
    "\n",
    "# Convert the independent variables parameters selected above to a logistic regression range\n",
    "for j in x_log:\n",
    "    x[j] = np.log(x[j])\n",
    "\n",
    "y = data_House_price['SalePrice']\n",
    "y = np.log(y)\n",
    "\n",
    "# To convert whatever strings your data might contain to numeric values. \n",
    "# If they're incompatible with conversion, they'll be reduced to NaNs.\n",
    "x = x.apply(pd.to_numeric, errors='coerce')\n",
    "y = y.apply(pd.to_numeric, errors='coerce')\n",
    "x.fillna(0, inplace=True)\n",
    "y.fillna(0, inplace=True)\n",
    "\n",
    "# Importing train_test_split from sklearn\n",
    "from sklearn.model_selection import train_test_split\n",
    "\n",
    "# Splitting the data\n",
    "x_train, x_test, y_train, y_test = train_test_split(x, y, test_size = 0.2, random_state = 100)\n",
    "\n",
    "# Importing module\n",
    "from sklearn.linear_model import LinearRegression\n",
    "\n",
    "# Creating an object of LinearRegression class\n",
    "LR = LinearRegression()\n",
    "\n",
    "# Fitting the training data\n",
    "LR.fit(x_train,y_train)\n",
    "\n",
    "print(\"Intercept: %f\" %LR.intercept_)\n",
    "print(\"Coefficients: %s\" %str(LR.coef_))\n",
    "print(\"R^2: %f\" %(LR.score(x_train,y_train)))\n",
    "print(\"R^2: %f\" %(LR.score(x_test,y_test)))\n",
    "\n",
    "features20 = sm.add_constant(x_train)\n",
    "ols_sm20   = OLS(y_train,features20)\n",
    "lm_test20    = ols_sm20.fit()\n",
    "\n",
    "print(lm_test20.summary())"
   ]
  },
  {
   "cell_type": "markdown",
   "id": "1b8fdd2e",
   "metadata": {},
   "source": [
    "Perform **Huber Regression** to evaluate the effect of removing outliers."
   ]
  },
  {
   "cell_type": "code",
   "execution_count": 17,
   "id": "ac3522a1",
   "metadata": {},
   "outputs": [
    {
     "name": "stderr",
     "output_type": "stream",
     "text": [
      "/Users/jchatterjee/opt/anaconda3/lib/python3.9/site-packages/sklearn/linear_model/_huber.py:296: ConvergenceWarning:\n",
      "\n",
      "lbfgs failed to converge (status=1):\n",
      "STOP: TOTAL NO. of ITERATIONS REACHED LIMIT.\n",
      "\n",
      "Increase the number of iterations (max_iter) or scale the data as shown in:\n",
      "    https://scikit-learn.org/stable/modules/preprocessing.html\n",
      "\n"
     ]
    },
    {
     "data": {
      "text/plain": [
       "0.9054350190492275"
      ]
     },
     "execution_count": 17,
     "metadata": {},
     "output_type": "execute_result"
    }
   ],
   "source": [
    "from sklearn.linear_model import HuberRegressor\n",
    "\n",
    "huber = HuberRegressor(max_iter = 1000).fit(x_train, y_train)\n",
    "huber.score(x_test, y_test)\n"
   ]
  },
  {
   "cell_type": "markdown",
   "id": "32f42ed7",
   "metadata": {},
   "source": [
    "Import packages for performing the **Penalized Regression** methods."
   ]
  },
  {
   "cell_type": "code",
   "execution_count": 18,
   "id": "7317f2f2",
   "metadata": {},
   "outputs": [],
   "source": [
    "from sklearn.linear_model import LinearRegression, Ridge, Lasso, ElasticNet\n",
    "from sklearn import datasets"
   ]
  },
  {
   "cell_type": "markdown",
   "id": "0a76fbb9",
   "metadata": {},
   "source": [
    "Perform **Ridge Regression**."
   ]
  },
  {
   "cell_type": "code",
   "execution_count": 19,
   "id": "f0bf92d5",
   "metadata": {},
   "outputs": [
    {
     "name": "stdout",
     "output_type": "stream",
     "text": [
      "the ridge intercept is: 9.89\n"
     ]
    },
    {
     "data": {
      "text/plain": [
       "0.9284828392447706"
      ]
     },
     "execution_count": 19,
     "metadata": {},
     "output_type": "execute_result"
    }
   ],
   "source": [
    "ridge = Ridge()\n",
    "ridge.fit(x_train, y_train)\n",
    "print('the ridge intercept is: %.2f' %(ridge.intercept_))\n",
    "#pd.Series(ridge.coef_, index=house_features.columns)\n",
    "ridge.score(x_test, y_test)"
   ]
  },
  {
   "cell_type": "markdown",
   "id": "8c3534a3",
   "metadata": {},
   "source": [
    "Perform **Lasso Regression**."
   ]
  },
  {
   "cell_type": "code",
   "execution_count": 20,
   "id": "145b147e",
   "metadata": {},
   "outputs": [
    {
     "data": {
      "text/plain": [
       "[0.9280841289032938,\n",
       " 0.7876134755673568,\n",
       " 0.6735566322130062,\n",
       " 0.5806021607293974,\n",
       " 0.580724274601164,\n",
       " 0.5807552984745492,\n",
       " 0.5806134534830795,\n",
       " 0.5802987719746174,\n",
       " 0.5798113389655144,\n",
       " 0.5791510569143472,\n",
       " 0.5783179258211159,\n",
       " 0.5773119459112778,\n",
       " 0.5761331170397104,\n",
       " 0.5747814390920374,\n",
       " 0.5732569120682598,\n",
       " 0.571559535968377,\n",
       " 0.5696893107923888,\n",
       " 0.5676462365341632,\n",
       " 0.5654303133315244,\n",
       " 0.563041541191518]"
      ]
     },
     "execution_count": 20,
     "metadata": {},
     "output_type": "execute_result"
    }
   ],
   "source": [
    "lasso  = Lasso()\n",
    "alphas = np.linspace(0.001,1.1,20)\n",
    "lasso.set_params(normalize=False)\n",
    "coefs_lasso  = []\n",
    "score_lasso  = []\n",
    "\n",
    "for alpha in alphas:\n",
    "        lasso.set_params(alpha=alpha)\n",
    "        lasso.fit(x_train, y_train)  \n",
    "        coefs_lasso.append(lasso.coef_)\n",
    "        score_lasso.append(lasso.score(x_test, y_test))\n",
    "\n",
    "coefs_lasso = pd.DataFrame(coefs_lasso, index = alphas, columns = x.columns)  \n",
    "#print(coefs_lasso.head())\n",
    "score_lasso"
   ]
  },
  {
   "cell_type": "markdown",
   "id": "c7053c83",
   "metadata": {},
   "source": [
    "Perform **ElasticNet Regression**."
   ]
  },
  {
   "cell_type": "code",
   "execution_count": 21,
   "id": "2996dd06",
   "metadata": {},
   "outputs": [
    {
     "name": "stdout",
     "output_type": "stream",
     "text": [
      "The R^2 is 0.9325\n"
     ]
    },
    {
     "data": {
      "text/plain": [
       "(array([ 2.89952980e-01,  2.59020307e-02,  9.05364734e-02,  0.00000000e+00,\n",
       "         5.75817581e-02,  3.50904618e-02,  2.33213045e-02,  3.06911529e-03,\n",
       "         3.33814675e-02,  5.83022354e-03,  1.27179833e-02,  1.25973634e-01,\n",
       "        -8.76238766e-05,  1.79535715e-02,  2.26950920e-02,  3.25816768e-02,\n",
       "        -3.12403955e-03,  3.19051629e-02,  1.55085836e-02,  1.51696615e-04,\n",
       "         7.10927249e-05,  1.30879753e-04,  5.53621328e-05,  4.11568572e-05,\n",
       "         1.86322924e-04,  2.70694821e-04, -1.23819082e-03,  0.00000000e+00,\n",
       "        -5.88202053e-04, -4.10762625e-02, -2.19536392e-02, -2.14727502e-02,\n",
       "         2.75015241e-02,  2.25860083e-02, -1.65973440e-02,  1.01224483e-02,\n",
       "        -3.52103841e-02, -2.42890670e-02,  4.81471713e-02,  9.18354489e-02,\n",
       "         4.32868557e-02,  3.04464128e-02,  5.36287844e-02,  3.15845910e-02,\n",
       "         8.50818552e-02, -4.16664750e-02,  1.00897891e-02,  1.13742565e-01,\n",
       "         5.38851269e-01, -2.61111647e-02,  1.08390510e-02, -4.19250804e-02,\n",
       "         1.72910633e-02,  6.98983560e-02, -1.59843729e-03,  1.30153524e-01,\n",
       "         1.09551079e-01, -5.37878194e-02, -1.47115918e-02,  8.03451865e-03,\n",
       "        -9.65544668e-03,  8.81844993e-02,  1.16835573e-01,  5.34232772e-02,\n",
       "         7.08244580e-02, -9.14415611e-02, -4.25197696e-02,  7.58787813e-03,\n",
       "         1.90375781e-01, -9.39759333e-03, -9.31476909e-03, -0.00000000e+00,\n",
       "         2.22893468e-02, -1.50511545e-03,  6.27646553e-02, -0.00000000e+00,\n",
       "         6.71924567e-02,  1.32216650e-02,  8.20378728e-03, -3.12862022e-02,\n",
       "         2.88555346e-02,  6.83345024e-03, -3.76414823e-02,  2.90547167e-03,\n",
       "        -4.60495334e-02, -1.39916607e-02, -5.12182631e-02,  1.34307328e-02,\n",
       "        -2.36834862e-02,  1.79758017e-02, -4.25121160e-02,  2.63476827e-02,\n",
       "         4.58135826e-02,  1.22369009e-04,  0.00000000e+00, -2.70137546e-02,\n",
       "        -8.75843804e-03, -7.00038241e-03]),\n",
       " 9.566632533789047)"
      ]
     },
     "execution_count": 21,
     "metadata": {},
     "output_type": "execute_result"
    }
   ],
   "source": [
    "elasticnet = ElasticNet(alpha=0.00001, l1_ratio=0.5, normalize=True)\n",
    "elasticnet.fit(x, y)\n",
    "print(r'The R^2 is %.4f' %(elasticnet.score(x, y)))\n",
    "elasticnet.coef_,  elasticnet.intercept_"
   ]
  },
  {
   "cell_type": "markdown",
   "id": "7683865f",
   "metadata": {},
   "source": [
    "Perform **Random Forest Regression**."
   ]
  },
  {
   "cell_type": "code",
   "execution_count": 22,
   "id": "514cff5e",
   "metadata": {},
   "outputs": [
    {
     "data": {
      "text/plain": [
       "0.912384985882531"
      ]
     },
     "execution_count": 22,
     "metadata": {},
     "output_type": "execute_result"
    }
   ],
   "source": [
    "# Import the model we are using\n",
    "from sklearn.ensemble import RandomForestRegressor\n",
    "# Instantiate model with 1000 decision trees\n",
    "rf = RandomForestRegressor(n_estimators = 1000, random_state = 0)\n",
    "# Train the model on training data\n",
    "rf.fit(x_train, y_train)\n",
    "rf.score(x_test,y_test)"
   ]
  },
  {
   "cell_type": "markdown",
   "id": "1d62db88",
   "metadata": {},
   "source": [
    "Perform **Support Vector Machines Regression**."
   ]
  },
  {
   "cell_type": "code",
   "execution_count": 23,
   "id": "69f69bc6",
   "metadata": {},
   "outputs": [],
   "source": [
    "# # Import svm model\n",
    "# from sklearn import svm\n",
    "\n",
    "# # Import scikit-learn metrics module for accuracy calculation\n",
    "# from sklearn import metrics\n",
    "\n",
    "# # Import scikit-learn modules for encoding data\n",
    "# from sklearn import preprocessing\n",
    "# from sklearn import utils\n",
    "\n",
    "# # Create a svm Classifier\n",
    "# clf = svm.SVC(kernel='linear') # Linear Kernel\n",
    "\n",
    "# # Convert y values to categorical values\n",
    "# lab = preprocessing.LabelEncoder()\n",
    "# y_transformed_train = lab.fit_transform(y_train)\n",
    "# y_transformed_test = lab.fit_transform(y_test)\n",
    "\n",
    "# # Train the model using the training sets\n",
    "# clf.fit(x_train, y_transformed_train)\n",
    "\n",
    "# # Predict the response for test dataset\n",
    "# y_pred = clf.predict(x_test)\n",
    "\n",
    "# # Model Accuracy: how often is the classifier correct?\n",
    "# print(\"Accuracy:\",metrics.accuracy_score(y_transformed_test, y_pred))"
   ]
  },
  {
   "cell_type": "markdown",
   "id": "1f957ac1",
   "metadata": {},
   "source": [
    "**ElasticNet Regression** is providing the highest accuracy of all the methods, and shall therefore be cross-validated."
   ]
  },
  {
   "cell_type": "markdown",
   "id": "7000723f",
   "metadata": {},
   "source": [
    "Check the accuracy of the train vs test data."
   ]
  },
  {
   "cell_type": "code",
   "execution_count": 24,
   "id": "d272d602",
   "metadata": {},
   "outputs": [
    {
     "name": "stdout",
     "output_type": "stream",
     "text": [
      "Train Score 0.9324184732640863\n",
      "Test Score 0.9514637204572238\n"
     ]
    }
   ],
   "source": [
    "elasticnet.fit(x_train, y_train)\n",
    "print(\"Train Score\", elasticnet.score(x_train, y_train))\n",
    "elasticnet.fit(x_test, y_test)\n",
    "print(\"Test Score\", elasticnet.score(x_test, y_test))"
   ]
  },
  {
   "cell_type": "markdown",
   "id": "f2c133de",
   "metadata": {},
   "source": [
    "Select model for use in cross-validation."
   ]
  },
  {
   "cell_type": "code",
   "execution_count": 25,
   "id": "6ab31359",
   "metadata": {},
   "outputs": [
    {
     "name": "stdout",
     "output_type": "stream",
     "text": [
      "alpha = 1\n",
      "Test Score -0.0010895022941845856 \n",
      "\n",
      "alpha = 0.1\n",
      "Test Score -0.0010895022941845856 \n",
      "\n",
      "alpha = 0.01\n",
      "Test Score 0.07722871664083086 \n",
      "\n",
      "alpha = 0.001\n",
      "Test Score 0.8834713517108342 \n",
      "\n",
      "alpha = 0.0001\n",
      "Test Score 0.9327113664166264 \n",
      "\n",
      "alpha = 1e-05\n",
      "Test Score 0.9286808599801415 \n",
      "\n"
     ]
    }
   ],
   "source": [
    "for alpha in [1, 0.1, 0.01, 0.001, 0.0001, 0.00001]:\n",
    "    elasticnet = ElasticNet(alpha=alpha, l1_ratio=0.5, normalize=True)\n",
    "    elasticnet.fit(x_train, y_train)\n",
    "    print(\"alpha =\", alpha)\n",
    "    print(\"Test Score\", elasticnet.score(x_test, y_test), \"\\n\")"
   ]
  },
  {
   "cell_type": "markdown",
   "id": "f44c5aaf",
   "metadata": {},
   "source": [
    "Select an alpha of 0.0001 based on the above analysis."
   ]
  },
  {
   "cell_type": "code",
   "execution_count": 26,
   "id": "3473ba55",
   "metadata": {},
   "outputs": [
    {
     "name": "stdout",
     "output_type": "stream",
     "text": [
      "[ 369  370  371 ... 1841 1842 1843]  consists of 1475 indexes.\n",
      "[  0   1   2   3   4   5   6   7   8   9  10  11  12  13  14  15  16  17\n",
      "  18  19  20  21  22  23  24  25  26  27  28  29  30  31  32  33  34  35\n",
      "  36  37  38  39  40  41  42  43  44  45  46  47  48  49  50  51  52  53\n",
      "  54  55  56  57  58  59  60  61  62  63  64  65  66  67  68  69  70  71\n",
      "  72  73  74  75  76  77  78  79  80  81  82  83  84  85  86  87  88  89\n",
      "  90  91  92  93  94  95  96  97  98  99 100 101 102 103 104 105 106 107\n",
      " 108 109 110 111 112 113 114 115 116 117 118 119 120 121 122 123 124 125\n",
      " 126 127 128 129 130 131 132 133 134 135 136 137 138 139 140 141 142 143\n",
      " 144 145 146 147 148 149 150 151 152 153 154 155 156 157 158 159 160 161\n",
      " 162 163 164 165 166 167 168 169 170 171 172 173 174 175 176 177 178 179\n",
      " 180 181 182 183 184 185 186 187 188 189 190 191 192 193 194 195 196 197\n",
      " 198 199 200 201 202 203 204 205 206 207 208 209 210 211 212 213 214 215\n",
      " 216 217 218 219 220 221 222 223 224 225 226 227 228 229 230 231 232 233\n",
      " 234 235 236 237 238 239 240 241 242 243 244 245 246 247 248 249 250 251\n",
      " 252 253 254 255 256 257 258 259 260 261 262 263 264 265 266 267 268 269\n",
      " 270 271 272 273 274 275 276 277 278 279 280 281 282 283 284 285 286 287\n",
      " 288 289 290 291 292 293 294 295 296 297 298 299 300 301 302 303 304 305\n",
      " 306 307 308 309 310 311 312 313 314 315 316 317 318 319 320 321 322 323\n",
      " 324 325 326 327 328 329 330 331 332 333 334 335 336 337 338 339 340 341\n",
      " 342 343 344 345 346 347 348 349 350 351 352 353 354 355 356 357 358 359\n",
      " 360 361 362 363 364 365 366 367 368]  consists of 369 indexes.\n",
      "\n",
      "\n",
      "[   0    1    2 ... 1841 1842 1843]  consists of 1475 indexes.\n",
      "[369 370 371 372 373 374 375 376 377 378 379 380 381 382 383 384 385 386\n",
      " 387 388 389 390 391 392 393 394 395 396 397 398 399 400 401 402 403 404\n",
      " 405 406 407 408 409 410 411 412 413 414 415 416 417 418 419 420 421 422\n",
      " 423 424 425 426 427 428 429 430 431 432 433 434 435 436 437 438 439 440\n",
      " 441 442 443 444 445 446 447 448 449 450 451 452 453 454 455 456 457 458\n",
      " 459 460 461 462 463 464 465 466 467 468 469 470 471 472 473 474 475 476\n",
      " 477 478 479 480 481 482 483 484 485 486 487 488 489 490 491 492 493 494\n",
      " 495 496 497 498 499 500 501 502 503 504 505 506 507 508 509 510 511 512\n",
      " 513 514 515 516 517 518 519 520 521 522 523 524 525 526 527 528 529 530\n",
      " 531 532 533 534 535 536 537 538 539 540 541 542 543 544 545 546 547 548\n",
      " 549 550 551 552 553 554 555 556 557 558 559 560 561 562 563 564 565 566\n",
      " 567 568 569 570 571 572 573 574 575 576 577 578 579 580 581 582 583 584\n",
      " 585 586 587 588 589 590 591 592 593 594 595 596 597 598 599 600 601 602\n",
      " 603 604 605 606 607 608 609 610 611 612 613 614 615 616 617 618 619 620\n",
      " 621 622 623 624 625 626 627 628 629 630 631 632 633 634 635 636 637 638\n",
      " 639 640 641 642 643 644 645 646 647 648 649 650 651 652 653 654 655 656\n",
      " 657 658 659 660 661 662 663 664 665 666 667 668 669 670 671 672 673 674\n",
      " 675 676 677 678 679 680 681 682 683 684 685 686 687 688 689 690 691 692\n",
      " 693 694 695 696 697 698 699 700 701 702 703 704 705 706 707 708 709 710\n",
      " 711 712 713 714 715 716 717 718 719 720 721 722 723 724 725 726 727 728\n",
      " 729 730 731 732 733 734 735 736 737]  consists of 369 indexes.\n",
      "\n",
      "\n",
      "[   0    1    2 ... 1841 1842 1843]  consists of 1475 indexes.\n",
      "[ 738  739  740  741  742  743  744  745  746  747  748  749  750  751\n",
      "  752  753  754  755  756  757  758  759  760  761  762  763  764  765\n",
      "  766  767  768  769  770  771  772  773  774  775  776  777  778  779\n",
      "  780  781  782  783  784  785  786  787  788  789  790  791  792  793\n",
      "  794  795  796  797  798  799  800  801  802  803  804  805  806  807\n",
      "  808  809  810  811  812  813  814  815  816  817  818  819  820  821\n",
      "  822  823  824  825  826  827  828  829  830  831  832  833  834  835\n",
      "  836  837  838  839  840  841  842  843  844  845  846  847  848  849\n",
      "  850  851  852  853  854  855  856  857  858  859  860  861  862  863\n",
      "  864  865  866  867  868  869  870  871  872  873  874  875  876  877\n",
      "  878  879  880  881  882  883  884  885  886  887  888  889  890  891\n",
      "  892  893  894  895  896  897  898  899  900  901  902  903  904  905\n",
      "  906  907  908  909  910  911  912  913  914  915  916  917  918  919\n",
      "  920  921  922  923  924  925  926  927  928  929  930  931  932  933\n",
      "  934  935  936  937  938  939  940  941  942  943  944  945  946  947\n",
      "  948  949  950  951  952  953  954  955  956  957  958  959  960  961\n",
      "  962  963  964  965  966  967  968  969  970  971  972  973  974  975\n",
      "  976  977  978  979  980  981  982  983  984  985  986  987  988  989\n",
      "  990  991  992  993  994  995  996  997  998  999 1000 1001 1002 1003\n",
      " 1004 1005 1006 1007 1008 1009 1010 1011 1012 1013 1014 1015 1016 1017\n",
      " 1018 1019 1020 1021 1022 1023 1024 1025 1026 1027 1028 1029 1030 1031\n",
      " 1032 1033 1034 1035 1036 1037 1038 1039 1040 1041 1042 1043 1044 1045\n",
      " 1046 1047 1048 1049 1050 1051 1052 1053 1054 1055 1056 1057 1058 1059\n",
      " 1060 1061 1062 1063 1064 1065 1066 1067 1068 1069 1070 1071 1072 1073\n",
      " 1074 1075 1076 1077 1078 1079 1080 1081 1082 1083 1084 1085 1086 1087\n",
      " 1088 1089 1090 1091 1092 1093 1094 1095 1096 1097 1098 1099 1100 1101\n",
      " 1102 1103 1104 1105 1106]  consists of 369 indexes.\n",
      "\n",
      "\n",
      "[   0    1    2 ... 1841 1842 1843]  consists of 1475 indexes.\n",
      "[1107 1108 1109 1110 1111 1112 1113 1114 1115 1116 1117 1118 1119 1120\n",
      " 1121 1122 1123 1124 1125 1126 1127 1128 1129 1130 1131 1132 1133 1134\n",
      " 1135 1136 1137 1138 1139 1140 1141 1142 1143 1144 1145 1146 1147 1148\n",
      " 1149 1150 1151 1152 1153 1154 1155 1156 1157 1158 1159 1160 1161 1162\n",
      " 1163 1164 1165 1166 1167 1168 1169 1170 1171 1172 1173 1174 1175 1176\n",
      " 1177 1178 1179 1180 1181 1182 1183 1184 1185 1186 1187 1188 1189 1190\n",
      " 1191 1192 1193 1194 1195 1196 1197 1198 1199 1200 1201 1202 1203 1204\n",
      " 1205 1206 1207 1208 1209 1210 1211 1212 1213 1214 1215 1216 1217 1218\n",
      " 1219 1220 1221 1222 1223 1224 1225 1226 1227 1228 1229 1230 1231 1232\n",
      " 1233 1234 1235 1236 1237 1238 1239 1240 1241 1242 1243 1244 1245 1246\n",
      " 1247 1248 1249 1250 1251 1252 1253 1254 1255 1256 1257 1258 1259 1260\n",
      " 1261 1262 1263 1264 1265 1266 1267 1268 1269 1270 1271 1272 1273 1274\n",
      " 1275 1276 1277 1278 1279 1280 1281 1282 1283 1284 1285 1286 1287 1288\n",
      " 1289 1290 1291 1292 1293 1294 1295 1296 1297 1298 1299 1300 1301 1302\n",
      " 1303 1304 1305 1306 1307 1308 1309 1310 1311 1312 1313 1314 1315 1316\n",
      " 1317 1318 1319 1320 1321 1322 1323 1324 1325 1326 1327 1328 1329 1330\n",
      " 1331 1332 1333 1334 1335 1336 1337 1338 1339 1340 1341 1342 1343 1344\n",
      " 1345 1346 1347 1348 1349 1350 1351 1352 1353 1354 1355 1356 1357 1358\n",
      " 1359 1360 1361 1362 1363 1364 1365 1366 1367 1368 1369 1370 1371 1372\n",
      " 1373 1374 1375 1376 1377 1378 1379 1380 1381 1382 1383 1384 1385 1386\n",
      " 1387 1388 1389 1390 1391 1392 1393 1394 1395 1396 1397 1398 1399 1400\n",
      " 1401 1402 1403 1404 1405 1406 1407 1408 1409 1410 1411 1412 1413 1414\n",
      " 1415 1416 1417 1418 1419 1420 1421 1422 1423 1424 1425 1426 1427 1428\n",
      " 1429 1430 1431 1432 1433 1434 1435 1436 1437 1438 1439 1440 1441 1442\n",
      " 1443 1444 1445 1446 1447 1448 1449 1450 1451 1452 1453 1454 1455 1456\n",
      " 1457 1458 1459 1460 1461 1462 1463 1464 1465 1466 1467 1468 1469 1470\n",
      " 1471 1472 1473 1474 1475]  consists of 369 indexes.\n",
      "\n",
      "\n",
      "[   0    1    2 ... 1473 1474 1475]  consists of 1476 indexes.\n",
      "[1476 1477 1478 1479 1480 1481 1482 1483 1484 1485 1486 1487 1488 1489\n",
      " 1490 1491 1492 1493 1494 1495 1496 1497 1498 1499 1500 1501 1502 1503\n",
      " 1504 1505 1506 1507 1508 1509 1510 1511 1512 1513 1514 1515 1516 1517\n",
      " 1518 1519 1520 1521 1522 1523 1524 1525 1526 1527 1528 1529 1530 1531\n",
      " 1532 1533 1534 1535 1536 1537 1538 1539 1540 1541 1542 1543 1544 1545\n",
      " 1546 1547 1548 1549 1550 1551 1552 1553 1554 1555 1556 1557 1558 1559\n",
      " 1560 1561 1562 1563 1564 1565 1566 1567 1568 1569 1570 1571 1572 1573\n",
      " 1574 1575 1576 1577 1578 1579 1580 1581 1582 1583 1584 1585 1586 1587\n",
      " 1588 1589 1590 1591 1592 1593 1594 1595 1596 1597 1598 1599 1600 1601\n",
      " 1602 1603 1604 1605 1606 1607 1608 1609 1610 1611 1612 1613 1614 1615\n",
      " 1616 1617 1618 1619 1620 1621 1622 1623 1624 1625 1626 1627 1628 1629\n",
      " 1630 1631 1632 1633 1634 1635 1636 1637 1638 1639 1640 1641 1642 1643\n",
      " 1644 1645 1646 1647 1648 1649 1650 1651 1652 1653 1654 1655 1656 1657\n",
      " 1658 1659 1660 1661 1662 1663 1664 1665 1666 1667 1668 1669 1670 1671\n",
      " 1672 1673 1674 1675 1676 1677 1678 1679 1680 1681 1682 1683 1684 1685\n",
      " 1686 1687 1688 1689 1690 1691 1692 1693 1694 1695 1696 1697 1698 1699\n",
      " 1700 1701 1702 1703 1704 1705 1706 1707 1708 1709 1710 1711 1712 1713\n",
      " 1714 1715 1716 1717 1718 1719 1720 1721 1722 1723 1724 1725 1726 1727\n",
      " 1728 1729 1730 1731 1732 1733 1734 1735 1736 1737 1738 1739 1740 1741\n",
      " 1742 1743 1744 1745 1746 1747 1748 1749 1750 1751 1752 1753 1754 1755\n",
      " 1756 1757 1758 1759 1760 1761 1762 1763 1764 1765 1766 1767 1768 1769\n",
      " 1770 1771 1772 1773 1774 1775 1776 1777 1778 1779 1780 1781 1782 1783\n",
      " 1784 1785 1786 1787 1788 1789 1790 1791 1792 1793 1794 1795 1796 1797\n",
      " 1798 1799 1800 1801 1802 1803 1804 1805 1806 1807 1808 1809 1810 1811\n",
      " 1812 1813 1814 1815 1816 1817 1818 1819 1820 1821 1822 1823 1824 1825\n",
      " 1826 1827 1828 1829 1830 1831 1832 1833 1834 1835 1836 1837 1838 1839\n",
      " 1840 1841 1842 1843]  consists of 368 indexes.\n",
      "\n",
      "\n"
     ]
    }
   ],
   "source": [
    "from sklearn.model_selection import KFold\n",
    "\n",
    "kfold = KFold(n_splits=5)\n",
    "for training_idx, validation_idx in kfold.split(x_train, y_train):\n",
    "    print(training_idx, \" consists of {} indexes.\".format(len(training_idx)))\n",
    "    print(validation_idx, \" consists of {} indexes.\".format(len(validation_idx)))\n",
    "    print(\"\\n\")"
   ]
  },
  {
   "cell_type": "markdown",
   "id": "d20aca81",
   "metadata": {},
   "source": [
    "First attempt at cross-validation."
   ]
  },
  {
   "cell_type": "code",
   "execution_count": 27,
   "id": "ca0e83ad",
   "metadata": {},
   "outputs": [
    {
     "name": "stdout",
     "output_type": "stream",
     "text": [
      "The 'cross-validation score' for the ElasticNet regression with alpha=0.0001 is 0.9212632058096982\n"
     ]
    }
   ],
   "source": [
    "en = ElasticNet(alpha=0.0001, l1_ratio=0.5, normalize=True)\n",
    "\n",
    "scores = []\n",
    "for training_idx, validation_idx in kfold.split(x_train, y_train):\n",
    "    x_ = x_train.iloc[training_idx,:]\n",
    "    y_ = y_train.iloc[training_idx]\n",
    "    en.fit(x_, y_)\n",
    "    scores.append(\n",
    "        en.score(x_train.iloc[validation_idx], y_train.iloc[validation_idx]))\n",
    "    \n",
    "print(\n",
    "    \"The 'cross-validation score' for the ElasticNet regression with alpha={} is {}\".format(\n",
    "        en.get_params()[\"alpha\"], np.mean(scores)))"
   ]
  },
  {
   "cell_type": "markdown",
   "id": "07460ae2",
   "metadata": {},
   "source": [
    "Second attempt at cross-validation using `cross_val_score`."
   ]
  },
  {
   "cell_type": "code",
   "execution_count": 28,
   "id": "75283e9f",
   "metadata": {},
   "outputs": [
    {
     "name": "stdout",
     "output_type": "stream",
     "text": [
      "[0.91060669 0.93117796 0.93095532 0.92424442 0.90933163]\n",
      "The 'cross-validation score' for the ElasticNet regression with alpha=0.0001 is 0.9212632058096982\n"
     ]
    }
   ],
   "source": [
    "from sklearn.model_selection import cross_val_score\n",
    "\n",
    "en = ElasticNet(alpha=0.0001, l1_ratio=0.5, normalize=True)\n",
    "scores = cross_val_score(en, x_train, y_train, cv=kfold)\n",
    "print(scores)\n",
    "print(\n",
    "    \"The 'cross-validation score' for the ElasticNet regression with alpha={} is {}\".format(\n",
    "        en.get_params()[\"alpha\"], np.mean(scores)))"
   ]
  },
  {
   "cell_type": "markdown",
   "id": "651bebc4",
   "metadata": {},
   "source": [
    "Shuffle the indexes."
   ]
  },
  {
   "cell_type": "code",
   "execution_count": 29,
   "id": "66871418",
   "metadata": {},
   "outputs": [
    {
     "name": "stdout",
     "output_type": "stream",
     "text": [
      "[   0    2    3 ... 1841 1842 1843]  consists of 1475 indexes.\n",
      "[   1    4    5    6    9   14   17   18   19   30   31   34   37   39\n",
      "   47   48   52   53   54   55   58   66   76   77   80   82   85   89\n",
      "   92  107  113  118  122  124  135  141  144  148  152  156  159  161\n",
      "  175  177  182  187  190  191  204  206  215  217  219  220  223  229\n",
      "  233  240  249  251  253  254  259  262  268  271  276  278  279  298\n",
      "  299  303  310  318  322  326  333  342  347  353  361  376  385  390\n",
      "  393  402  408  412  425  436  440  446  458  459  461  465  467  473\n",
      "  475  479  481  485  487  489  491  501  506  511  512  518  519  520\n",
      "  521  522  526  529  530  553  557  558  563  564  565  567  568  572\n",
      "  575  576  579  581  582  596  597  602  615  620  621  632  642  651\n",
      "  652  654  655  658  665  668  670  672  674  679  692  704  706  712\n",
      "  716  721  724  731  733  737  743  745  748  757  762  764  788  796\n",
      "  813  814  818  828  831  842  847  866  871  879  881  887  895  897\n",
      "  898  905  918  924  940  943  946  953  957  965  969  974  977  980\n",
      "  981  983  985  987  988  991  993 1003 1005 1018 1021 1027 1031 1032\n",
      " 1036 1038 1042 1049 1051 1054 1063 1070 1076 1083 1084 1096 1101 1116\n",
      " 1121 1122 1123 1126 1140 1147 1154 1165 1169 1178 1187 1189 1190 1191\n",
      " 1192 1193 1196 1203 1220 1227 1228 1230 1234 1236 1246 1253 1254 1255\n",
      " 1257 1259 1266 1267 1274 1275 1279 1292 1295 1302 1321 1323 1332 1335\n",
      " 1340 1342 1347 1353 1358 1359 1361 1366 1369 1374 1378 1379 1380 1382\n",
      " 1386 1389 1390 1394 1398 1401 1406 1410 1411 1414 1416 1419 1423 1427\n",
      " 1433 1437 1440 1441 1474 1476 1482 1484 1486 1487 1498 1506 1509 1514\n",
      " 1519 1522 1537 1544 1546 1559 1560 1564 1572 1577 1579 1585 1593 1596\n",
      " 1603 1607 1608 1609 1614 1615 1620 1625 1626 1632 1636 1637 1639 1649\n",
      " 1664 1671 1673 1674 1692 1696 1703 1705 1708 1709 1717 1729 1736 1743\n",
      " 1746 1753 1754 1765 1766 1768 1769 1773 1774 1776 1791 1793 1799 1803\n",
      " 1804 1808 1825 1826 1835]  consists of 369 indexes.\n",
      "\n",
      "\n",
      "[   0    1    3 ... 1840 1841 1842]  consists of 1475 indexes.\n",
      "[   2    8   13   22   27   29   35   40   42   45   56   61   68   71\n",
      "   75   96  108  114  133  140  142  155  157  162  170  171  178  184\n",
      "  186  192  194  195  198  202  210  211  218  224  227  231  241  243\n",
      "  247  258  260  270  285  289  295  302  308  309  312  315  317  319\n",
      "  330  354  360  362  364  372  378  379  381  399  401  411  414  420\n",
      "  422  426  427  431  432  434  435  438  442  443  445  452  456  457\n",
      "  464  471  477  482  483  494  513  516  517  524  527  532  535  536\n",
      "  538  539  542  546  548  549  554  570  574  578  580  587  593  609\n",
      "  616  618  619  638  641  646  648  649  657  661  666  667  678  686\n",
      "  688  689  708  711  713  723  726  740  744  746  752  758  759  760\n",
      "  769  773  775  776  781  785  789  792  793  794  795  799  801  808\n",
      "  810  811  817  823  825  826  829  838  839  844  853  861  862  875\n",
      "  883  884  891  892  893  896  904  906  911  914  916  923  927  930\n",
      "  933  935  936  937  938  942  955  958  960  961  963  966  971  979\n",
      "  982  984  986  989  992  994  995  997 1001 1002 1010 1013 1015 1023\n",
      " 1045 1047 1050 1052 1055 1057 1064 1069 1073 1078 1079 1081 1087 1093\n",
      " 1097 1099 1103 1109 1115 1124 1127 1132 1158 1161 1164 1166 1168 1170\n",
      " 1175 1182 1183 1185 1186 1188 1200 1210 1218 1222 1224 1235 1237 1248\n",
      " 1256 1261 1270 1273 1280 1281 1282 1286 1287 1290 1291 1294 1301 1305\n",
      " 1307 1317 1318 1322 1328 1333 1337 1341 1344 1351 1354 1356 1357 1360\n",
      " 1363 1364 1370 1372 1385 1391 1399 1402 1408 1413 1422 1439 1448 1457\n",
      " 1465 1477 1478 1479 1480 1489 1494 1497 1502 1504 1505 1511 1516 1532\n",
      " 1535 1540 1541 1547 1549 1553 1554 1555 1562 1582 1583 1590 1592 1595\n",
      " 1597 1600 1610 1633 1635 1640 1644 1647 1656 1659 1660 1662 1668 1669\n",
      " 1677 1678 1686 1688 1689 1690 1694 1704 1707 1710 1716 1718 1723 1724\n",
      " 1727 1732 1744 1749 1752 1757 1758 1760 1770 1775 1800 1801 1818 1822\n",
      " 1823 1832 1833 1839 1843]  consists of 369 indexes.\n",
      "\n",
      "\n",
      "[   0    1    2 ... 1839 1841 1843]  consists of 1475 indexes.\n",
      "[  10   15   16   38   44   49   51   60   62   64   65   70   78   79\n",
      "   81   83   88   95   97  101  103  110  117  119  120  127  131  132\n",
      "  143  145  150  154  158  165  181  183  185  188  193  196  200  205\n",
      "  208  214  222  228  230  235  236  238  239  245  252  255  261  263\n",
      "  264  265  267  269  272  283  294  300  311  313  316  320  328  332\n",
      "  338  345  346  349  351  352  356  358  359  363  366  367  371  374\n",
      "  380  382  384  386  389  391  394  395  397  403  405  406  410  413\n",
      "  416  417  418  439  453  466  472  474  476  478  484  486  492  493\n",
      "  495  496  500  503  505  507  523  528  531  533  540  541  552  566\n",
      "  569  571  583  588  589  590  592  601  608  610  613  625  626  629\n",
      "  634  644  656  660  662  676  677  681  682  685  687  693  695  703\n",
      "  717  720  722  725  728  729  742  751  761  768  771  783  784  787\n",
      "  790  798  805  820  824  840  841  846  858  863  864  867  874  877\n",
      "  878  880  899  900  901  907  912  913  921  934  944  948  959  962\n",
      "  968  970  996  999 1000 1014 1017 1024 1025 1026 1029 1034 1039 1044\n",
      " 1056 1058 1061 1074 1086 1088 1089 1091 1105 1108 1110 1114 1125 1128\n",
      " 1129 1135 1136 1137 1142 1145 1148 1150 1151 1174 1180 1184 1199 1205\n",
      " 1211 1212 1213 1214 1217 1223 1226 1232 1240 1245 1258 1260 1262 1264\n",
      " 1265 1268 1277 1285 1296 1310 1311 1319 1325 1326 1343 1355 1362 1367\n",
      " 1375 1376 1388 1396 1404 1412 1415 1421 1424 1425 1426 1428 1430 1436\n",
      " 1451 1452 1453 1456 1459 1460 1464 1467 1471 1490 1493 1501 1507 1515\n",
      " 1517 1521 1523 1524 1525 1527 1529 1533 1534 1543 1548 1551 1556 1557\n",
      " 1558 1561 1567 1573 1575 1587 1601 1602 1604 1606 1611 1618 1621 1622\n",
      " 1623 1631 1638 1642 1646 1650 1651 1654 1655 1657 1658 1661 1670 1685\n",
      " 1687 1691 1693 1695 1706 1728 1734 1735 1738 1742 1745 1748 1750 1751\n",
      " 1761 1767 1784 1787 1788 1790 1797 1802 1806 1809 1816 1817 1821 1827\n",
      " 1829 1830 1831 1840 1842]  consists of 369 indexes.\n",
      "\n",
      "\n",
      "[   1    2    4 ... 1841 1842 1843]  consists of 1475 indexes.\n",
      "[   0    3    7   12   20   21   26   46   50   59   63   74   90  100\n",
      "  102  104  105  109  112  116  125  126  134  137  138  153  163  167\n",
      "  172  173  179  213  225  226  237  242  246  248  250  266  280  281\n",
      "  282  284  288  292  293  301  304  305  306  321  325  327  331  334\n",
      "  336  337  339  343  344  348  350  355  357  365  369  375  392  396\n",
      "  400  404  407  409  415  419  421  424  428  437  441  447  449  451\n",
      "  454  460  462  463  468  470  490  497  499  502  504  515  534  545\n",
      "  550  561  573  577  585  586  595  603  604  605  612  614  622  624\n",
      "  627  630  631  635  636  640  643  647  650  653  664  669  671  680\n",
      "  683  690  691  694  698  699  700  702  707  709  715  718  732  736\n",
      "  738  741  747  753  754  766  772  780  786  800  815  819  822  827\n",
      "  830  832  833  834  836  837  848  851  852  854  855  856  857  869\n",
      "  870  873  890  902  903  915  920  922  926  929  932  939  941  945\n",
      "  947  950  951  975  990  998 1006 1008 1009 1011 1012 1016 1019 1028\n",
      " 1030 1037 1041 1046 1048 1059 1062 1072 1075 1080 1090 1092 1095 1098\n",
      " 1100 1102 1113 1118 1120 1130 1131 1133 1139 1144 1146 1149 1156 1157\n",
      " 1159 1160 1163 1173 1177 1179 1181 1194 1195 1197 1202 1209 1225 1229\n",
      " 1231 1233 1238 1239 1242 1243 1244 1247 1249 1263 1269 1271 1276 1283\n",
      " 1288 1298 1299 1300 1303 1306 1308 1309 1314 1315 1320 1324 1327 1330\n",
      " 1334 1336 1338 1339 1348 1349 1368 1377 1384 1387 1393 1397 1403 1409\n",
      " 1431 1432 1442 1443 1444 1446 1449 1450 1454 1458 1461 1463 1468 1473\n",
      " 1475 1491 1492 1495 1499 1500 1503 1508 1513 1518 1520 1526 1528 1530\n",
      " 1538 1550 1566 1568 1569 1570 1571 1580 1584 1588 1591 1594 1612 1616\n",
      " 1627 1628 1629 1643 1645 1648 1652 1663 1665 1667 1672 1675 1679 1680\n",
      " 1700 1702 1712 1713 1720 1721 1722 1725 1726 1730 1737 1740 1756 1763\n",
      " 1771 1779 1780 1783 1785 1789 1795 1796 1805 1807 1811 1812 1814 1815\n",
      " 1819 1820 1834 1836 1837]  consists of 369 indexes.\n",
      "\n",
      "\n",
      "[   0    1    2 ... 1840 1842 1843]  consists of 1476 indexes.\n",
      "[  11   23   24   25   28   32   33   36   41   43   57   67   69   72\n",
      "   73   84   86   87   91   93   94   98   99  106  111  115  121  123\n",
      "  128  129  130  136  139  146  147  149  151  160  164  166  168  169\n",
      "  174  176  180  189  197  199  201  203  207  209  212  216  221  232\n",
      "  234  244  256  257  273  274  275  277  286  287  290  291  296  297\n",
      "  307  314  323  324  329  335  340  341  368  370  373  377  383  387\n",
      "  388  398  423  429  430  433  444  448  450  455  469  480  488  498\n",
      "  508  509  510  514  525  537  543  544  547  551  555  556  559  560\n",
      "  562  584  591  594  598  599  600  606  607  611  617  623  628  633\n",
      "  637  639  645  659  663  673  675  684  696  697  701  705  710  714\n",
      "  719  727  730  734  735  739  749  750  755  756  763  765  767  770\n",
      "  774  777  778  779  782  791  797  802  803  804  806  807  809  812\n",
      "  816  821  835  843  845  849  850  859  860  865  868  872  876  882\n",
      "  885  886  888  889  894  908  909  910  917  919  925  928  931  949\n",
      "  952  954  956  964  967  972  973  976  978 1004 1007 1020 1022 1033\n",
      " 1035 1040 1043 1053 1060 1065 1066 1067 1068 1071 1077 1082 1085 1094\n",
      " 1104 1106 1107 1111 1112 1117 1119 1134 1138 1141 1143 1152 1153 1155\n",
      " 1162 1167 1171 1172 1176 1198 1201 1204 1206 1207 1208 1215 1216 1219\n",
      " 1221 1241 1250 1251 1252 1272 1278 1284 1289 1293 1297 1304 1312 1313\n",
      " 1316 1329 1331 1345 1346 1350 1352 1365 1371 1373 1381 1383 1392 1395\n",
      " 1400 1405 1407 1417 1418 1420 1429 1434 1435 1438 1445 1447 1455 1462\n",
      " 1466 1469 1470 1472 1481 1483 1485 1488 1496 1510 1512 1531 1536 1539\n",
      " 1542 1545 1552 1563 1565 1574 1576 1578 1581 1586 1589 1598 1599 1605\n",
      " 1613 1617 1619 1624 1630 1634 1641 1653 1666 1676 1681 1682 1683 1684\n",
      " 1697 1698 1699 1701 1711 1714 1715 1719 1731 1733 1739 1741 1747 1755\n",
      " 1759 1762 1764 1772 1777 1778 1781 1782 1786 1792 1794 1798 1810 1813\n",
      " 1824 1828 1838 1841]  consists of 368 indexes.\n",
      "\n",
      "\n"
     ]
    }
   ],
   "source": [
    "kfold = KFold(n_splits=5, shuffle=True, random_state=0)\n",
    "for training_idx, validation_idx in kfold.split(x_train, y_train):\n",
    "    print(training_idx, \" consists of {} indexes.\".format(len(training_idx)))\n",
    "    print(validation_idx, \" consists of {} indexes.\".format(len(validation_idx)))\n",
    "    print(\"\\n\")"
   ]
  },
  {
   "cell_type": "markdown",
   "id": "ea8b09a9",
   "metadata": {},
   "source": [
    "Check the distributions of the dependent variable."
   ]
  },
  {
   "cell_type": "code",
   "execution_count": 30,
   "id": "a28aa2e6",
   "metadata": {
    "scrolled": true
   },
   "outputs": [
    {
     "name": "stdout",
     "output_type": "stream",
     "text": [
      "The churn rate of the training set of this fold is 12.001128009495208.\n",
      "The churn rate of the validation set of this fold is 11.985472283230033.\n",
      "\n",
      "\n",
      "The churn rate of the training set of this fold is 11.99193586816792.\n",
      "The churn rate of the validation set of this fold is 12.022215937587038.\n",
      "\n",
      "\n",
      "The churn rate of the training set of this fold is 11.99567273684362.\n",
      "The churn rate of the validation set of this fold is 12.007278589899673.\n",
      "\n",
      "\n",
      "The churn rate of the training set of this fold is 11.99588383191429.\n",
      "The churn rate of the validation set of this fold is 12.006434781690363.\n",
      "\n",
      "\n",
      "The churn rate of the training set of this fold is 12.005350398101763.\n",
      "The churn rate of the validation set of this fold is 11.968494290541072.\n",
      "\n",
      "\n"
     ]
    }
   ],
   "source": [
    "kfold = KFold(n_splits=5, shuffle=True, random_state=0)\n",
    "for training_idx, validation_idx in kfold.split(x_train, y_train):\n",
    "    print(\"The churn rate of the training set of this fold is {}.\".format(y_train.iloc[training_idx].mean()))\n",
    "    print(\"The churn rate of the validation set of this fold is {}.\".format(y_train.iloc[validation_idx].mean()))\n",
    "    print(\"\\n\")"
   ]
  },
  {
   "cell_type": "markdown",
   "id": "020e1e9d",
   "metadata": {},
   "source": [
    "Perform grid search."
   ]
  },
  {
   "cell_type": "code",
   "execution_count": 31,
   "id": "fd8e773e",
   "metadata": {},
   "outputs": [
    {
     "name": "stderr",
     "output_type": "stream",
     "text": [
      "/Users/jchatterjee/opt/anaconda3/lib/python3.9/site-packages/sklearn/linear_model/_coordinate_descent.py:530: ConvergenceWarning: Objective did not converge. You might want to increase the number of iterations. Duality gap: 9.509239337880771, tolerance: 0.020852723846005044\n",
      "  model = cd_fast.enet_coordinate_descent(\n",
      "/Users/jchatterjee/opt/anaconda3/lib/python3.9/site-packages/sklearn/linear_model/_coordinate_descent.py:530: ConvergenceWarning: Objective did not converge. You might want to increase the number of iterations. Duality gap: 9.948042537416585, tolerance: 0.020909894966374076\n",
      "  model = cd_fast.enet_coordinate_descent(\n",
      "/Users/jchatterjee/opt/anaconda3/lib/python3.9/site-packages/sklearn/linear_model/_coordinate_descent.py:530: ConvergenceWarning: Objective did not converge. You might want to increase the number of iterations. Duality gap: 9.151881274592574, tolerance: 0.020187692277470116\n",
      "  model = cd_fast.enet_coordinate_descent(\n",
      "/Users/jchatterjee/opt/anaconda3/lib/python3.9/site-packages/sklearn/linear_model/_coordinate_descent.py:530: ConvergenceWarning: Objective did not converge. You might want to increase the number of iterations. Duality gap: 9.786607537313694, tolerance: 0.02040685865682641\n",
      "  model = cd_fast.enet_coordinate_descent(\n",
      "/Users/jchatterjee/opt/anaconda3/lib/python3.9/site-packages/sklearn/linear_model/_coordinate_descent.py:530: ConvergenceWarning: Objective did not converge. You might want to increase the number of iterations. Duality gap: 9.2720623655585, tolerance: 0.01959283559023135\n",
      "  model = cd_fast.enet_coordinate_descent(\n"
     ]
    },
    {
     "name": "stdout",
     "output_type": "stream",
     "text": [
      "Tuned ElasticNet l1 ratio: {'l1_ratio': 0.5102040816326531}\n",
      "Tuned ElasticNet R squared: 0.9327410595060929\n",
      "Tuned ElasticNet MSE: 0.008321926927634338\n"
     ]
    }
   ],
   "source": [
    "# From: https://webpages.charlotte.edu/sramak11/ML/Models.html#ElasticNet\n",
    "\n",
    "# Import necessary modules\n",
    "from sklearn.model_selection import GridSearchCV\n",
    "from sklearn.metrics import mean_squared_error\n",
    "\n",
    "# Create the hyperparameter grid\n",
    "l1_space = np.linspace(0, 1, 50)\n",
    "param_grid = {'l1_ratio': l1_space}\n",
    "\n",
    "# Setup the GridSearchCV object: gm_cv\n",
    "# Assume ElasticNet with alpha of 0.0001 as changed in the model selection for cross-validation\n",
    "gm_cv = GridSearchCV(en, param_grid, cv=5, n_jobs=-1)\n",
    "\n",
    "# Fit it to the training data\n",
    "gm_cv.fit(x_train, y_train)\n",
    "\n",
    "# Predict on the test set and compute metrics\n",
    "y_pred = gm_cv.predict(x_test)\n",
    "r2 = gm_cv.score(x_test, y_test)\n",
    "mse = mean_squared_error(y_test, y_pred)\n",
    "print(\"Tuned ElasticNet l1 ratio: {}\".format(gm_cv.best_params_))\n",
    "print(\"Tuned ElasticNet R squared: {}\".format(r2))\n",
    "print(\"Tuned ElasticNet MSE: {}\".format(mse))"
   ]
  }
 ],
 "metadata": {
  "kernelspec": {
   "display_name": "Python 3 (ipykernel)",
   "language": "python",
   "name": "python3"
  },
  "language_info": {
   "codemirror_mode": {
    "name": "ipython",
    "version": 3
   },
   "file_extension": ".py",
   "mimetype": "text/x-python",
   "name": "python",
   "nbconvert_exporter": "python",
   "pygments_lexer": "ipython3",
   "version": "3.9.7"
  }
 },
 "nbformat": 4,
 "nbformat_minor": 5
}
