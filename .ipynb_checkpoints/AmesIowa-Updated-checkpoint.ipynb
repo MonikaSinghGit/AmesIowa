{
 "cells": [
  {
   "cell_type": "markdown",
   "id": "99f9af6c",
   "metadata": {},
   "source": [
    "Import the necessary packages"
   ]
  },
  {
   "cell_type": "code",
   "execution_count": 1,
   "id": "f0ff8844",
   "metadata": {},
   "outputs": [
    {
     "data": {
      "text/html": [
       "        <script type=\"text/javascript\">\n",
       "        window.PlotlyConfig = {MathJaxConfig: 'local'};\n",
       "        if (window.MathJax) {MathJax.Hub.Config({SVG: {font: \"STIX-Web\"}});}\n",
       "        if (typeof require !== 'undefined') {\n",
       "        require.undef(\"plotly\");\n",
       "        requirejs.config({\n",
       "            paths: {\n",
       "                'plotly': ['https://cdn.plot.ly/plotly-2.11.1.min']\n",
       "            }\n",
       "        });\n",
       "        require(['plotly'], function(Plotly) {\n",
       "            window._Plotly = Plotly;\n",
       "        });\n",
       "        }\n",
       "        </script>\n",
       "        "
      ]
     },
     "metadata": {},
     "output_type": "display_data"
    }
   ],
   "source": [
    "import numpy as np\n",
    "import pandas as pd\n",
    "from matplotlib import pyplot as plt\n",
    "plt.style.use('ggplot')\n",
    "import plotly as px\n",
    "\n",
    "# So that it plots locally\n",
    "px.offline.init_notebook_mode(connected = True)\n",
    "\n",
    "# Increase default plot size for all Matplotlib figures\n",
    "plt.rcParams[\"figure.figsize\"] = (27,9)        \n",
    "\n",
    "from datetime import date\n",
    "from sklearn.linear_model import LinearRegression, HuberRegressor\n",
    "from sklearn import linear_model\n",
    "import statsmodels.api as sm\n",
    "from statsmodels.api import OLS\n",
    "\n",
    "# Increase pandas default max_rows \n",
    "pd.options.display.max_rows = 250\n",
    "pd.options.display.max_columns = 250"
   ]
  },
  {
   "cell_type": "markdown",
   "id": "e12920a7",
   "metadata": {},
   "source": [
    "Clean the data from the source .csv file"
   ]
  },
  {
   "cell_type": "code",
   "execution_count": 2,
   "id": "2d0147b3",
   "metadata": {},
   "outputs": [
    {
     "name": "stderr",
     "output_type": "stream",
     "text": [
      "/Users/jchatterjee/opt/anaconda3/lib/python3.9/site-packages/pandas/core/indexing.py:1732: SettingWithCopyWarning:\n",
      "\n",
      "\n",
      "A value is trying to be set on a copy of a slice from a DataFrame\n",
      "\n",
      "See the caveats in the documentation: https://pandas.pydata.org/pandas-docs/stable/user_guide/indexing.html#returning-a-view-versus-a-copy\n",
      "\n"
     ]
    }
   ],
   "source": [
    "# DO THIS EVERY TIME YOU ARE LOADING THE CSV FILE INTO THE IDE OR NOTEBOOK\n",
    "\n",
    "ames = pd.read_csv('Data/Clean_Ames_Housing_Price.csv', index_col=0)\n",
    "\n",
    "# Apply mask/filter to examine only null values.\n",
    "lot_nulls = ames[ames['LotFrontage'].isna()] #lots with no linear feet of street connected to property\n",
    "\n",
    "# Group lots by configuration\n",
    "grouped_lots = ames.groupby(['LotConfig']).agg({\n",
    "   'LotFrontage' : 'mean', \n",
    "})\n",
    "\n",
    "# Replace np.nan with average for lot_config of that type\n",
    "ames.loc[(ames['LotFrontage'].isna()) & (ames['LotConfig'] == 'Corner'), 'LotFrontage'] = 81.468023\n",
    "ames.loc[(ames['LotFrontage'].isna()) & (ames['LotConfig'] == 'CulDSac'), 'LotFrontage'] = 56.456790        \n",
    "ames.loc[(ames['LotFrontage'].isna()) & (ames['LotConfig'] == 'FR2'), 'LotFrontage'] = 59.413793        \n",
    "ames.loc[(ames['LotFrontage'].isna()) & (ames['LotConfig'] == 'FR3'), 'LotFrontage'] = 79.3       \n",
    "ames.loc[(ames['LotFrontage'].isna()) & (ames['LotConfig'] == 'Inside'), 'LotFrontage'] = 66.633846\n",
    "\n",
    "# Clean NaN values with proper coding\n",
    "ames['Alley'] = ames['Alley'].replace(np.nan, 'NA')\n",
    "ames['BsmtQual'] = ames['BsmtQual'].replace(np.nan, 'NA')\n",
    "ames['BsmtCond'] = ames['BsmtCond'].replace(np.nan, 'NA')\n",
    "ames['BsmtExposure'] = ames['BsmtExposure'].replace(np.nan, 'NA')\n",
    "ames['BsmtFinType1'] = ames['BsmtFinType1'].replace(np.nan, 'NA')\n",
    "ames['BsmtFinSF1'] = ames['BsmtFinSF1'].replace(np.nan, 0)\n",
    "ames['BsmtFinType2'] = ames['BsmtFinType2'].replace(np.nan, 'NA')\n",
    "ames['BsmtFinSF2'] = ames['BsmtFinSF2'].replace(np.nan, 0)\n",
    "ames['BsmtUnfSF'] = ames['BsmtUnfSF'].replace(np.nan, 0)\n",
    "ames['TotalBsmtSF'] = ames['TotalBsmtSF'].replace(np.nan, 0)\n",
    "ames['BsmtFullBath'] = ames['BsmtFullBath'].replace(np.nan, 0)\n",
    "ames['BsmtHalfBath'] = ames['BsmtHalfBath'].replace(np.nan, 0)\n",
    "ames['Electrical'] = ames['Electrical'].replace(np.nan, 'SBrkr')\n",
    "ames['FireplaceQu'] = ames['FireplaceQu'].replace(np.nan, 'NA')\n",
    "ames['GarageType'] = ames['GarageType'].replace(np.nan, 'NA')\n",
    "ames['GarageYrBlt'] = ames['GarageYrBlt'].replace(np.nan, 'NA')\n",
    "ames['GarageFinish'] = ames['GarageFinish'].replace(np.nan, 'NA')\n",
    "ames['GarageCars'] = ames['GarageCars'].replace(np.nan, 0)\n",
    "ames['GarageArea'] = ames['GarageArea'].replace(np.nan, 0)\n",
    "ames['GarageQual'] = ames['GarageQual'].replace(np.nan, 'NA')\n",
    "ames['GarageCond'] = ames['GarageCond'].replace(np.nan, 'NA')\n",
    "ames['PoolQC'] = ames['PoolQC'].replace(np.nan, 'NA')\n",
    "ames['Fence'] = ames['Fence'].replace(np.nan, 'NA')\n",
    "ames['MiscFeature'] = ames['MiscFeature'].replace(np.nan, 'NA')\n",
    "\n",
    "# Inspect the property records to see front façades\n",
    "# https://beacon.schneidercorp.com/Application.aspx?AppID=165&LayerID=2145&PageTypeID=2&PageID=1104\n",
    "ames['MasVnrType'].loc[176] = \"Stone\"\n",
    "ames['MasVnrType'].loc[359] = \"None\"\n",
    "ames['MasVnrType'].loc[754] = \"None\"\n",
    "ames['MasVnrType'].loc[788] = \"None\"\n",
    "ames['MasVnrType'].loc[872] = \"None\"\n",
    "ames['MasVnrType'].loc[892] = \"None\"\n",
    "ames['MasVnrType'].loc[952] = \"Stone\"\n",
    "ames['MasVnrType'].loc[1042] = \"None\"\n",
    "ames['MasVnrType'].loc[1162] = \"None\"\n",
    "ames['MasVnrType'].loc[1356] = \"None\"\n",
    "ames['MasVnrType'].loc[1554] = \"None\"\n",
    "ames['MasVnrType'].loc[2034] = \"None\"\n",
    "ames['MasVnrType'].loc[2478] = \"None\"\n",
    "ames['MasVnrType'].loc[2537] = \"None\"\n",
    "\n",
    "# For the properties with partial height stone façade, assume 4 ft height,\n",
    "# and for full height, assume 8 ft height\n",
    "# Assume façade length is the 1.618 length of a house built in the footprint of a golden ration\n",
    "# sqrt(1.618 * 1stFlrSF)\n",
    "ames['MasVnrArea'].loc[176] = 4 * (1.618 * ames.loc[176]['1stFlrSF']) ** 0.5\n",
    "ames['MasVnrArea'].loc[359] = 0\n",
    "ames['MasVnrArea'].loc[754] = 0\n",
    "ames['MasVnrArea'].loc[788] = 0\n",
    "ames['MasVnrArea'].loc[872] = 0\n",
    "ames['MasVnrArea'].loc[892] = 0\n",
    "ames['MasVnrArea'].loc[952] = 8 * (1.618 * ames.loc[176]['1stFlrSF']) ** 0.5\n",
    "ames['MasVnrArea'].loc[1042] = 0\n",
    "ames['MasVnrArea'].loc[1162] = 0\n",
    "ames['MasVnrArea'].loc[1356] = 0\n",
    "ames['MasVnrArea'].loc[1554] = 0\n",
    "ames['MasVnrArea'].loc[2034] = 0\n",
    "ames['MasVnrArea'].loc[2478] = 0\n",
    "ames['MasVnrArea'].loc[2537] = 0\n",
    "\n",
    "# ames.to_csv('Data/Clean_Ames_HousePrice.csv')"
   ]
  },
  {
   "cell_type": "markdown",
   "id": "03e34f47",
   "metadata": {},
   "source": [
    "Import the cleaned data into a new dataframe"
   ]
  },
  {
   "cell_type": "code",
   "execution_count": 3,
   "id": "237b9cbb",
   "metadata": {},
   "outputs": [],
   "source": [
    "# Analysis of Ames_HousePrice.csv starts here\n",
    "data_House_price=ames"
   ]
  },
  {
   "cell_type": "markdown",
   "id": "30365552",
   "metadata": {},
   "source": [
    "There are houses with no garages that still need values assigned to them for the year built. So, for simplicity those cases shall be the year the house was built or remodeled, whichever was more recent."
   ]
  },
  {
   "cell_type": "code",
   "execution_count": 4,
   "id": "16fa0fd0",
   "metadata": {},
   "outputs": [],
   "source": [
    "# Assign dummy values for houses with garages that do not have them\n",
    "no_garage = data_House_price.loc[data_House_price.GarageYrBlt == 'NA'].index.to_list()\n",
    "for i in no_garage:\n",
    "    data_House_price.loc[i,'GarageYrBlt'] = max(data_House_price.loc[i,'YearBuilt'],data_House_price.loc[i,'YearRemodAdd'])"
   ]
  },
  {
   "cell_type": "markdown",
   "id": "a3b33090",
   "metadata": {},
   "source": [
    "Assess the number of unique parcels denoted by PID."
   ]
  },
  {
   "cell_type": "code",
   "execution_count": 5,
   "id": "63f0fe40",
   "metadata": {},
   "outputs": [
    {
     "name": "stdout",
     "output_type": "stream",
     "text": [
      "909276070    2\n",
      "909176150    1\n",
      "528292070    1\n",
      "909250220    1\n",
      "534450150    1\n",
      "            ..\n",
      "531452260    1\n",
      "528488130    1\n",
      "923229010    1\n",
      "528382020    1\n",
      "906223180    1\n",
      "Name: PID, Length: 2579, dtype: int64\n",
      "(2580, 81)\n"
     ]
    }
   ],
   "source": [
    "pid=data_House_price.PID.unique()\n",
    "print(data_House_price['PID'].value_counts())\n",
    "print(data_House_price.shape)"
   ]
  },
  {
   "cell_type": "markdown",
   "id": "84979d4f",
   "metadata": {},
   "source": [
    "Further cleaning of data to be performed."
   ]
  },
  {
   "cell_type": "code",
   "execution_count": 6,
   "id": "081bc1f2",
   "metadata": {},
   "outputs": [
    {
     "name": "stderr",
     "output_type": "stream",
     "text": [
      "/var/folders/kg/5clnm8vj1jz2tlvmfxjvq3_00000gn/T/ipykernel_1562/1236823908.py:7: SettingWithCopyWarning:\n",
      "\n",
      "\n",
      "A value is trying to be set on a copy of a slice from a DataFrame.\n",
      "Try using .loc[row_indexer,col_indexer] = value instead\n",
      "\n",
      "See the caveats in the documentation: https://pandas.pydata.org/pandas-docs/stable/user_guide/indexing.html#returning-a-view-versus-a-copy\n",
      "\n"
     ]
    }
   ],
   "source": [
    "# Remove duplicates\n",
    "data_House_price=data_House_price.drop_duplicates(subset=None, keep='first', inplace=False)\n",
    "duplicate_obersvation = data_House_price[data_House_price.duplicated()]\n",
    "\n",
    "# Create new column since built or remodeled\n",
    "data_House_price['YearRemodAdd']\n",
    "data_House_price['YearSinceBuiltRemodeled']=data_House_price['YrSold']-data_House_price['YearRemodAdd']"
   ]
  },
  {
   "cell_type": "markdown",
   "id": "d4bef737",
   "metadata": {},
   "source": [
    "Encode various variables and perform **Multilinear Regression**."
   ]
  },
  {
   "cell_type": "code",
   "execution_count": 7,
   "id": "0a112590",
   "metadata": {},
   "outputs": [
    {
     "name": "stdout",
     "output_type": "stream",
     "text": [
      "0.8116536008490594\n",
      "                            OLS Regression Results                            \n",
      "==============================================================================\n",
      "Dep. Variable:              SalePrice   R-squared:                       0.812\n",
      "Model:                            OLS   Adj. R-squared:                  0.810\n",
      "Method:                 Least Squares   F-statistic:                     690.0\n",
      "Date:                Sun, 22 May 2022   Prob (F-statistic):               0.00\n",
      "Time:                        00:12:52   Log-Likelihood:                -30458.\n",
      "No. Observations:                2579   AIC:                         6.095e+04\n",
      "Df Residuals:                    2562   BIC:                         6.105e+04\n",
      "Df Model:                          16                                         \n",
      "Covariance Type:            nonrobust                                         \n",
      "====================================================================================\n",
      "                       coef    std err          t      P>|t|      [0.025      0.975]\n",
      "------------------------------------------------------------------------------------\n",
      "const            -1.208e+06   7.73e+04    -15.622      0.000   -1.36e+06   -1.06e+06\n",
      "LotArea              0.8312      0.093      8.941      0.000       0.649       1.013\n",
      "GrLivArea           79.8941      2.083     38.356      0.000      75.810      83.978\n",
      "BedroomAbvGr     -1.667e+04   1019.761    -16.351      0.000   -1.87e+04   -1.47e+04\n",
      "LandSlope         7973.3793   2872.470      2.776      0.006    2340.781    1.36e+04\n",
      "YearBuilt          602.3419     35.365     17.032      0.000     532.996     671.688\n",
      "BldgType         -5631.4116    616.328     -9.137      0.000   -6839.963   -4422.860\n",
      "OverallQual       2.085e+04    735.738     28.335      0.000    1.94e+04    2.23e+04\n",
      "OverallCond       5301.4054    657.545      8.062      0.000    4012.031    6590.780\n",
      "PavedDrive_P     -5903.9596   4910.599     -1.202      0.229   -1.55e+04    3725.186\n",
      "PavedDrive_Y     -2967.1160   2878.423     -1.031      0.303   -8611.388    2677.156\n",
      "MSZoning_C (all) -7128.5987   3.38e+04     -0.211      0.833   -7.35e+04    5.92e+04\n",
      "MSZoning_FV      -1.042e+04   3.32e+04     -0.314      0.754   -7.55e+04    5.47e+04\n",
      "MSZoning_I (all) -1.575e+04   4.02e+04     -0.392      0.695   -9.45e+04     6.3e+04\n",
      "MSZoning_RH      -1.243e+04   3.37e+04     -0.368      0.713   -7.86e+04    5.37e+04\n",
      "MSZoning_RL      -2722.0512    3.3e+04     -0.082      0.934   -6.74e+04     6.2e+04\n",
      "MSZoning_RM      -1.197e+04    3.3e+04     -0.362      0.717   -7.68e+04    5.28e+04\n",
      "==============================================================================\n",
      "Omnibus:                      809.833   Durbin-Watson:                   2.065\n",
      "Prob(Omnibus):                  0.000   Jarque-Bera (JB):            25635.580\n",
      "Skew:                           0.844   Prob(JB):                         0.00\n",
      "Kurtosis:                      18.353   Cond. No.                     1.96e+06\n",
      "==============================================================================\n",
      "\n",
      "Notes:\n",
      "[1] Standard Errors assume that the covariance matrix of the errors is correctly specified.\n",
      "[2] The condition number is large, 1.96e+06. This might indicate that there are\n",
      "strong multicollinearity or other numerical problems.\n"
     ]
    },
    {
     "name": "stderr",
     "output_type": "stream",
     "text": [
      "/Users/jchatterjee/opt/anaconda3/lib/python3.9/site-packages/pandas/core/frame.py:3678: SettingWithCopyWarning:\n",
      "\n",
      "\n",
      "A value is trying to be set on a copy of a slice from a DataFrame.\n",
      "Try using .loc[row_indexer,col_indexer] = value instead\n",
      "\n",
      "See the caveats in the documentation: https://pandas.pydata.org/pandas-docs/stable/user_guide/indexing.html#returning-a-view-versus-a-copy\n",
      "\n",
      "/Users/jchatterjee/opt/anaconda3/lib/python3.9/site-packages/statsmodels/tsa/tsatools.py:142: FutureWarning:\n",
      "\n",
      "In a future version of pandas all arguments of concat except for the argument 'objs' will be keyword-only\n",
      "\n"
     ]
    }
   ],
   "source": [
    "from sklearn.preprocessing import OneHotEncoder, OrdinalEncoder\n",
    "#Numerical:\n",
    "#LotArea, GrLivArea, YearBuilt,BedroomAbvGr,\n",
    "\n",
    "#Nominal Categorical:\n",
    "    \n",
    "    #BldgType :1Fam,2FmCon,TwnhsE,Twnhs,Duplex\n",
    "    #OverallQual\n",
    "    #OverallCond\n",
    "    #LandSlope: Gtl,Mod,Sev\n",
    "    \n",
    "#conditional:\n",
    "    #PavedDrive,MSZoning\n",
    "    \n",
    "multi_linear_var=data_House_price[['SalePrice','LotArea', 'GrLivArea', 'BedroomAbvGr','LandSlope','YearBuilt', \\\n",
    "                                   'MSZoning','BldgType','OverallQual','OverallCond','PavedDrive']]    \n",
    "\n",
    "multi_linear_var\n",
    "\n",
    "enc = OrdinalEncoder()\n",
    "enc.fit(multi_linear_var[[\"OverallQual\",\"BldgType\",\"OverallCond\",\"LandSlope\"]])\n",
    "multi_linear_var[[\"OverallQual\",\"BldgType\",\"OverallCond\",\"LandSlope\"]] = enc.transform(multi_linear_var[[\"OverallQual\",\"BldgType\",\"OverallCond\",\"LandSlope\"]])\n",
    "\n",
    "multi_linear_var = pd.get_dummies(multi_linear_var, columns = ['PavedDrive'],drop_first = True)\n",
    "multi_linear_var = pd.get_dummies(multi_linear_var, columns = ['MSZoning'],drop_first = True)\n",
    "\n",
    "x2=multi_linear_var.iloc[: , 1:]\n",
    "y2=multi_linear_var['SalePrice']\n",
    "\n",
    "ols2 = linear_model.LinearRegression()\n",
    "lm_test2=ols2.fit(x2, y2)\n",
    "print(lm_test2.score(x2, y2))\n",
    "###################Summary\n",
    "\n",
    "features2 = sm.add_constant(x2)\n",
    "ols_sm2   = OLS(y2,features2)\n",
    "lm_test2_1    = ols_sm2.fit()\n",
    "\n",
    "print(lm_test2_1.summary())"
   ]
  },
  {
   "cell_type": "markdown",
   "id": "caafe667",
   "metadata": {},
   "source": [
    "Further refine the data to exclude more irrelevant variables"
   ]
  },
  {
   "cell_type": "code",
   "execution_count": 8,
   "id": "8c8e84d5",
   "metadata": {},
   "outputs": [
    {
     "data": {
      "text/plain": [
       "(2305, 79)"
      ]
     },
     "execution_count": 8,
     "metadata": {},
     "output_type": "execute_result"
    }
   ],
   "source": [
    "# Removing Mszoning FV, C, I, A\n",
    "data_House_price = data_House_price[(data_House_price['MSZoning']!='FV')]\n",
    "data_House_price = data_House_price[(data_House_price['MSZoning']!='C (all)')]\n",
    "data_House_price = data_House_price[(data_House_price['MSZoning']!='I (all)')]\n",
    "data_House_price = data_House_price[(data_House_price['MSZoning']!='A (agr)')]\n",
    "\n",
    "# Only include houses the were sold under normal conditions\n",
    "data_House_price = data_House_price[(data_House_price['SaleCondition']=='Normal')]\n",
    "\n",
    "# Remove type of street, miscellaneous features, and utilities from the model\n",
    "data_House_price=data_House_price.drop(['Street','MiscFeature','Utilities'], axis=1)"
   ]
  },
  {
   "cell_type": "markdown",
   "id": "b28d8c45",
   "metadata": {},
   "source": [
    "Simplify month of sale into seasons."
   ]
  },
  {
   "cell_type": "code",
   "execution_count": 9,
   "id": "fdcfd106",
   "metadata": {},
   "outputs": [],
   "source": [
    "def get_season(mnth):\n",
    "    if (mnth in {12,1,2}):\n",
    "        return(\"Winter\")\n",
    "    if (mnth in {3,4,5}):\n",
    "        return(\"Spring\")\n",
    "    if (mnth in {6,7,8}):\n",
    "        return(\"Summer\")\n",
    "    if (mnth in {9,10,11}):\n",
    "        return(\"Autumn\")\n",
    "    \n",
    "data_House_price['Season'] = data_House_price.apply (lambda row : get_season(row['MoSold']), axis=1)    \n",
    "#print(get_season(data_orders['Order.Date'][1]))"
   ]
  },
  {
   "cell_type": "markdown",
   "id": "7ae0f1ef",
   "metadata": {},
   "source": [
    "Clean and refine the data further to encode and simplify more variables."
   ]
  },
  {
   "cell_type": "code",
   "execution_count": 10,
   "id": "42e787b8",
   "metadata": {},
   "outputs": [
    {
     "data": {
      "image/png": "[encoded data removed]",
      "text/plain": [
       "<Figure size 1944x648 with 1 Axes>"
      ]
     },
     "metadata": {},
     "output_type": "display_data"
    }
   ],
   "source": [
    "tmp=data_House_price\n",
    "\n",
    "tmp['Alley']=tmp['Alley'].replace({'Grvl':1, 'Pave': 1, 'NA': 0})\n",
    "tmp['CentralAir']=tmp['CentralAir'].replace({'Y': 1, 'N': 0})\n",
    "\n",
    "####################merging condition1 and condition2 into one feature###################################\n",
    "#2 if by positive feature, 1 if normal, 0 if negative feature. \n",
    "import seaborn as sns\n",
    "tmp['Condition2'].unique()\n",
    "tmp['positive_condition1'] = tmp['Condition1']\n",
    "tmp['positive_condition2'] = tmp['Condition2']\n",
    "tmp_condition_columns = tmp[['positive_condition2', 'positive_condition1']]\n",
    "\n",
    "dict_ordinal = {\n",
    "   'Artery':0,\n",
    "    'RRNe':0,\n",
    "    'RRAe':0,\n",
    "    'Feedr':0,\n",
    "    'RRAn':0,\n",
    "    'Norm':1,\n",
    "    'RRNn':0,\n",
    "    'PosN':2,\n",
    "    'PosA':2,\n",
    "        }\n",
    "\n",
    "# Loop to get the job done\n",
    "for i in tmp_condition_columns.columns:\n",
    "    tmp.replace({i: dict_ordinal},inplace = True)\n",
    "\n",
    "tmp['local_conditions'] = tmp['positive_condition1']+tmp['positive_condition2']\n",
    "# This a combined measure of local features. Railroads and busy streets are just not quite as nice\n",
    "# to live by as are greenbelts and parks and even normal places\n",
    "\n",
    "sns.regplot(x=tmp['local_conditions'],y=tmp['SalePrice'])\n",
    "tmp=tmp.drop(['positive_condition1','positive_condition2'],axis=1)\n",
    "\n",
    "###########################################################################################################\n",
    "\n",
    "tmp['Electrical']=tmp['Electrical'].replace({'SBrkr':1, 'FuseA': 0, 'FuseF': 0, 'FuseP': 0})\n",
    "tmp['PavedDrive']=tmp['PavedDrive'].replace({'Y':1, 'N': 0, 'P': 0})\n",
    "\n",
    "###################################################################################################\n",
    "tmp['SaleType']=tmp['SaleType'].replace({'WD':'Warranty_Deed', 'CWD': 'Warranty_Deed', 'VWD': 'Warranty_Deed',\n",
    "                                     'Con':'Contract', 'ConLw':'Contract', 'ConLI':'Contract',\n",
    "                                     'ConLD':'Contract', 'New':'Other', 'COD':'Other', 'Oth':'Other' })\n",
    "\n",
    "###############################################################################################################\n",
    "tmp['PoolArea']=tmp['PoolArea'].where(tmp['PoolArea'] == 0, 1)\n",
    "###############################################################################################################\n",
    "\n",
    "data_House_price=tmp"
   ]
  },
  {
   "cell_type": "markdown",
   "id": "a34a4772",
   "metadata": {},
   "source": [
    "Dummify various ordinal variables."
   ]
  },
  {
   "cell_type": "code",
   "execution_count": 11,
   "id": "98fae517",
   "metadata": {},
   "outputs": [],
   "source": [
    "########################################Add all cleaning before this##################################################\n",
    "# Decide how to map string values to numerical values for ordinal variables\n",
    "Ordstr = ['ExterQual','ExterCond', 'BsmtQual','HeatingQC','KitchenQual', \n",
    "          'Fence','MasVnrType','LotShape','Foundation','GarageFinish']\n",
    "\n",
    "ord2dummies01 = {'Ex':4, 'Gd':3, 'TA':2, 'Fa':1, 'Po':0}\n",
    "ord_vars01 = ['ExterQual','ExterCond','HeatingQC','KitchenQual']\n",
    "\n",
    "ord2dummies02 = {'Ex':5, 'Gd':4, 'TA':3, 'Fa':2, 'Po':1, \"NA\":0}\n",
    "ord_vars02 = ['BsmtQual']\n",
    "\n",
    "# ord2dummies03 = {'Gd':4, 'Av':3, 'Mn':2, 'No':1, 'NA':0}\n",
    "# ord_vars03 = ['BsmtExposure']\n",
    "\n",
    "# ord2dummies04 = {'GLQ':6, 'ALQ':5, 'BLQ':4, 'Rec':3, 'LwQ':2, 'Unf':1, 'NA':0}\n",
    "# ord_vars04 = ['BsmtFinType1','BsmtFinType2']\n",
    "\n",
    "ord2dummies06 = {'GdPrv':4, 'MnPrv':3, 'GdWo':2, 'MnWw':1, 'NA':0}\n",
    "ord_vars06 = ['Fence']\n",
    "\n",
    "ord2dummies07 = {'Stone':4,'BrkCmn':3,'BrkFace':2,'CBlock':1,'None':0}\n",
    "ord_vars07 = ['MasVnrType']\n",
    "\n",
    "ord2dummies08 = {'Reg':3,'IR1':2,'IR2':1,'IR3':0}\n",
    "ord_vars08 = ['LotShape']\n",
    "\n",
    "# ord2dummies09 = {'PConc':5,'Slab':4,'CBlock':3,'BrkTil':2,'Stone':1,'Wood':0}\n",
    "# ord_vars09 = ['Foundation']\n",
    "\n",
    "ord2dummies10 = {'Fin':3,'RFn':2,'Unf':1,'NA':0}\n",
    "ord_vars10 = ['GarageFinish']"
   ]
  },
  {
   "cell_type": "code",
   "execution_count": 12,
   "id": "c2ad4cdc",
   "metadata": {},
   "outputs": [],
   "source": [
    "# Map the values in the dataframe\n",
    "for i in ord_vars01:\n",
    "    data_House_price[i].replace(ord2dummies01, inplace=True)\n",
    "\n",
    "for i in ord_vars02:\n",
    "    data_House_price[i].replace(ord2dummies02, inplace=True)\n",
    "    \n",
    "# for i in ord_vars03:\n",
    "#     data_House_price[i].replace(ord2dummies03, inplace=True)\n",
    "\n",
    "# for i in ord_vars04:\n",
    "#     data_House_price[i].replace(ord2dummies04, inplace=True)    \n",
    "\n",
    "for i in ord_vars06:\n",
    "    data_House_price[i].replace(ord2dummies06, inplace=True)\n",
    "    \n",
    "for i in ord_vars07:\n",
    "    data_House_price[i].replace(ord2dummies07, inplace=True)\n",
    "\n",
    "for i in ord_vars08:\n",
    "    data_House_price[i].replace(ord2dummies08, inplace=True)\n",
    "\n",
    "# for i in ord_vars09:\n",
    "#     data_House_price[i].replace(ord2dummies09, inplace=True)\n",
    "    \n",
    "for i in ord_vars10:\n",
    "    data_House_price[i].replace(ord2dummies10, inplace=True)\n",
    "    \n",
    "# Assign a binary value for whether or not a house has a pool\n",
    "#data_House_price.loc[data_House_price['PoolArea'] > 0] = 1"
   ]
  },
  {
   "cell_type": "markdown",
   "id": "442fcdfb",
   "metadata": {},
   "source": [
    "Dummify various nominal variables."
   ]
  },
  {
   "cell_type": "code",
   "execution_count": 13,
   "id": "fca8df31",
   "metadata": {},
   "outputs": [],
   "source": [
    "Nomstr = ['MSZoning','Alley','LandContour','LotConfig','Neighborhood','local_conditions','HouseStyle','RoofStyle', \\\n",
    "          'MasVnrType','CentralAir','Electrical','PavedDrive','SaleType','PoolArea','Foundation','Season']\n",
    "for i in Nomstr:   \n",
    "    dummy = pd.get_dummies(data_House_price[i], prefix=i, prefix_sep='__')\n",
    "    dummy = dummy.drop(i+'__'+str(data_House_price[i].mode()[0]), axis=1)\n",
    "    data_House_price = pd.concat([data_House_price.drop(i, axis=1), dummy], axis=1)"
   ]
  },
  {
   "cell_type": "code",
   "execution_count": 14,
   "id": "062fdf31",
   "metadata": {},
   "outputs": [],
   "source": [
    "##########################Nearest Neighbor here##################################\n",
    "# tmp1=data_House_price\n",
    "# from sklearn.neighbors import NearestNeighbors\n",
    "# X_nei = tmp1['Neighborhood']\n",
    "# X_nei.unique()\n",
    "# n_nei=X_nei.shape[0]//6\n",
    "# neigh = NearestNeighbors(n_neighbors=n_nei)\n",
    "# neigh.fit(X_nei)\n",
    "# NearestNeighbors(n_neighbors=n_nei)\n",
    "# A = neigh.kneighbors_graph(X)"
   ]
  },
  {
   "cell_type": "markdown",
   "id": "aaa9e6c0",
   "metadata": {},
   "source": [
    "Check for columns missing data."
   ]
  },
  {
   "cell_type": "code",
   "execution_count": 15,
   "id": "8da4f0eb",
   "metadata": {},
   "outputs": [
    {
     "name": "stdout",
     "output_type": "stream",
     "text": [
      "Series([], dtype: int64)\n"
     ]
    }
   ],
   "source": [
    "missingCols = np.sum(data_House_price.isnull())\n",
    "print(missingCols[missingCols>0])"
   ]
  },
  {
   "cell_type": "markdown",
   "id": "336a4049",
   "metadata": {},
   "source": [
    "Drop various variables and perform **Logistic Regression**."
   ]
  },
  {
   "cell_type": "code",
   "execution_count": 16,
   "id": "18279deb",
   "metadata": {
    "scrolled": true
   },
   "outputs": [
    {
     "name": "stdout",
     "output_type": "stream",
     "text": [
      "Intercept: 9.570264\n",
      "Coefficients: [ 3.82738551e-01  2.53233961e-02  9.13983420e-02 -3.53030994e+09\n",
      "  5.64767171e-02  3.78329028e-02  1.93453359e-02  1.06858072e-02\n",
      "  3.45310676e-02  7.20157474e-03  1.40236989e-02  6.87479489e-02\n",
      " -9.03606415e-05  7.52576441e-03  1.97613910e-02  3.33556533e-02\n",
      " -5.62763214e-03  2.95867100e-02  1.63859501e-02  1.52349472e-04\n",
      "  5.96046448e-05  1.70588493e-04  5.44190407e-05  1.76012516e-04\n",
      "  1.92105770e-04  1.20437890e-03 -1.37869362e-03 -9.58867605e+06\n",
      " -4.83632088e-04 -6.26366442e-02 -2.74765259e-02 -2.39711099e-02\n",
      "  2.18013469e-02  4.57235933e-02 -1.86866677e-02 -2.24243500e-04\n",
      " -4.89565071e-02 -3.38905965e-02  8.37731893e-02  6.84129340e-02\n",
      "  7.72652198e-02  4.91403600e-02  5.68193272e-02  4.74276384e-02\n",
      "  9.41953305e-02 -2.77270311e-02  2.71840673e-02  1.25802848e-01\n",
      "  5.86269340e-01 -5.30043524e-03  5.64678993e-02 -3.52752483e-02\n",
      "  3.32225934e-02  9.74587736e-02  6.21251436e-03  1.54085527e-01\n",
      "  1.32237094e-01 -4.62336077e-02 -2.42370809e-03  2.37048026e-02\n",
      "  6.29835902e-03  9.60580023e-02  1.26291322e-01  7.58688448e-02\n",
      "  1.09562201e-01 -9.51937062e-02 -4.69404924e-02  1.36029935e-02\n",
      "  1.95731226e-01 -3.64298895e-02  1.02598919e-04 -5.35595370e-03\n",
      "  5.15802763e-04 -3.99995446e-02  6.45863786e-02 -2.54043192e-03\n",
      "  6.34516810e-02  3.05647082e-02  1.14609474e-02 -5.17368980e-03\n",
      "  1.49839524e-02  6.89876638e-03 -4.23137952e-02  7.26978621e-03\n",
      " -4.51023455e-02 -1.44254013e-02 -5.17879964e-02  2.39214700e-02\n",
      " -2.58569277e-02  4.42248911e-02 -5.52370693e-02  2.25470215e-02\n",
      "  7.40754593e-02 -5.41097909e-03 -1.98439698e-02 -2.87447041e-02\n",
      " -5.98126138e-03 -5.30819548e-03]\n",
      "R^2: 0.932636\n",
      "R^2: 0.926981\n",
      "                            OLS Regression Results                            \n",
      "==============================================================================\n",
      "Dep. Variable:              SalePrice   R-squared:                       0.933\n",
      "Model:                            OLS   Adj. R-squared:                  0.929\n",
      "Method:                 Least Squares   F-statistic:                     251.9\n",
      "Date:                Sun, 22 May 2022   Prob (F-statistic):               0.00\n",
      "Time:                        00:12:53   Log-Likelihood:                 1695.2\n",
      "No. Observations:                1844   AIC:                            -3196.\n",
      "Df Residuals:                    1747   BIC:                            -2661.\n",
      "Df Model:                          96                                         \n",
      "Covariance Type:            nonrobust                                         \n",
      "===========================================================================================\n",
      "                              coef    std err          t      P>|t|      [0.025      0.975]\n",
      "-------------------------------------------------------------------------------------------\n",
      "const                       9.6026      3.658      2.625      0.009       2.429      16.776\n",
      "GrLivArea                   0.3829      0.031     12.238      0.000       0.322       0.444\n",
      "LotFrontage                 0.0255      0.013      2.006      0.045       0.001       0.050\n",
      "LotArea                     0.0911      0.009     10.243      0.000       0.074       0.109\n",
      "LandSlope                2.113e-10   8.05e-11      2.625      0.009    5.34e-11    3.69e-10\n",
      "OverallQual                 0.0565      0.003     16.422      0.000       0.050       0.063\n",
      "OverallCond                 0.0378      0.003     13.462      0.000       0.032       0.043\n",
      "ExterQual                   0.0195      0.007      2.628      0.009       0.005       0.034\n",
      "ExterCond                   0.0107      0.007      1.554      0.120      -0.003       0.024\n",
      "BsmtQual                    0.0344      0.006      5.447      0.000       0.022       0.047\n",
      "TotalBsmtSF                 0.0073      0.002      3.235      0.001       0.003       0.012\n",
      "HeatingQC                   0.0141      0.003      4.351      0.000       0.008       0.020\n",
      "1stFlrSF                    0.0685      0.026      2.681      0.007       0.018       0.119\n",
      "LowQualFinSF            -9.134e-05   5.22e-05     -1.750      0.080      -0.000     1.1e-05\n",
      "FullBath                    0.0075      0.007      1.026      0.305      -0.007       0.022\n",
      "HalfBath                    0.0197      0.007      2.673      0.008       0.005       0.034\n",
      "KitchenQual                 0.0332      0.006      5.876      0.000       0.022       0.044\n",
      "TotRmsAbvGrd               -0.0056      0.003     -1.916      0.056      -0.011       0.000\n",
      "Fireplaces                  0.0296      0.005      6.422      0.000       0.021       0.039\n",
      "GarageFinish                0.0163      0.004      4.292      0.000       0.009       0.024\n",
      "GarageArea                  0.0002   1.64e-05      9.310      0.000       0.000       0.000\n",
      "WoodDeckSF               6.016e-05   1.99e-05      3.018      0.003    2.11e-05    9.93e-05\n",
      "OpenPorchSF                 0.0002   4.14e-05      4.124      0.000    8.95e-05       0.000\n",
      "EnclosedPorch            5.425e-05   3.88e-05      1.397      0.163   -2.19e-05       0.000\n",
      "3SsnPorch                   0.0002   9.93e-05      1.773      0.076   -1.87e-05       0.000\n",
      "ScreenPorch                 0.0002   4.52e-05      4.251      0.000       0.000       0.000\n",
      "Fence                       0.0012      0.002      0.608      0.543      -0.003       0.005\n",
      "YrSold                     -0.0014      0.002     -0.764      0.445      -0.005       0.002\n",
      "SaleCondition            2.933e-15   1.15e-15      2.541      0.011    6.69e-16     5.2e-15\n",
      "YearSinceBuiltRemodeled    -0.0005      0.000     -2.659      0.008      -0.001      -0.000\n",
      "MSZoning__RH               -0.0626      0.028     -2.236      0.025      -0.118      -0.008\n",
      "MSZoning__RM               -0.0275      0.013     -2.157      0.031      -0.052      -0.002\n",
      "LandContour__Bnk           -0.0240      0.013     -1.850      0.064      -0.049       0.001\n",
      "LandContour__HLS            0.0218      0.014      1.604      0.109      -0.005       0.048\n",
      "LandContour__Low            0.0457      0.019      2.427      0.015       0.009       0.083\n",
      "LotConfig__Corner          -0.0187      0.007     -2.815      0.005      -0.032      -0.006\n",
      "LotConfig__CulDSac         -0.0002      0.011     -0.019      0.985      -0.022       0.022\n",
      "LotConfig__FR2             -0.0490      0.015     -3.251      0.001      -0.078      -0.019\n",
      "LotConfig__FR3             -0.0339      0.036     -0.942      0.346      -0.104       0.037\n",
      "Neighborhood__Blmngtn       0.0838      0.030      2.827      0.005       0.026       0.142\n",
      "Neighborhood__Blueste       0.0684      0.046      1.500      0.134      -0.021       0.158\n",
      "Neighborhood__BrDale        0.0773      0.031      2.464      0.014       0.016       0.139\n",
      "Neighborhood__BrkSide       0.0491      0.017      2.964      0.003       0.017       0.082\n",
      "Neighborhood__ClearCr       0.0568      0.022      2.594      0.010       0.014       0.100\n",
      "Neighborhood__CollgCr       0.0474      0.013      3.749      0.000       0.023       0.072\n",
      "Neighborhood__Crawfor       0.0942      0.015      6.238      0.000       0.065       0.124\n",
      "Neighborhood__Edwards      -0.0277      0.011     -2.415      0.016      -0.050      -0.005\n",
      "Neighborhood__Gilbert       0.0272      0.016      1.745      0.081      -0.003       0.058\n",
      "Neighborhood__Greens        0.1258      0.041      3.045      0.002       0.045       0.207\n",
      "Neighborhood__GrnHill       0.5863      0.073      7.996      0.000       0.442       0.730\n",
      "Neighborhood__IDOTRR       -0.0053      0.021     -0.248      0.804      -0.047       0.037\n",
      "Neighborhood__Landmrk       0.0565      0.104      0.540      0.589      -0.149       0.261\n",
      "Neighborhood__MeadowV      -0.0353      0.026     -1.368      0.171      -0.086       0.015\n",
      "Neighborhood__Mitchel       0.0333      0.014      2.437      0.015       0.006       0.060\n",
      "Neighborhood__NPkVill       0.0975      0.029      3.418      0.001       0.042       0.153\n",
      "Neighborhood__NWAmes        0.0062      0.014      0.459      0.646      -0.020       0.033\n",
      "Neighborhood__NoRidge       0.1541      0.019      8.260      0.000       0.117       0.191\n",
      "Neighborhood__NridgHt       0.1322      0.017      7.557      0.000       0.098       0.167\n",
      "Neighborhood__OldTown      -0.0462      0.016     -2.893      0.004      -0.078      -0.015\n",
      "Neighborhood__SWISU        -0.0024      0.020     -0.119      0.905      -0.043       0.038\n",
      "Neighborhood__Sawyer        0.0237      0.012      2.058      0.040       0.001       0.046\n",
      "Neighborhood__SawyerW       0.0063      0.015      0.421      0.673      -0.023       0.036\n",
      "Neighborhood__Somerst       0.0961      0.028      3.477      0.001       0.042       0.150\n",
      "Neighborhood__StoneBr       0.1263      0.024      5.252      0.000       0.079       0.173\n",
      "Neighborhood__Timber        0.0759      0.018      4.101      0.000       0.040       0.112\n",
      "Neighborhood__Veenker       0.1095      0.026      4.136      0.000       0.058       0.161\n",
      "local_conditions__0        -0.0952      0.028     -3.386      0.001      -0.150      -0.040\n",
      "local_conditions__1        -0.0469      0.008     -5.848      0.000      -0.063      -0.031\n",
      "local_conditions__3         0.0136      0.017      0.816      0.415      -0.019       0.046\n",
      "local_conditions__4         0.1957      0.059      3.308      0.001       0.080       0.312\n",
      "HouseStyle__1.5Fin         -0.0365      0.014     -2.541      0.011      -0.065      -0.008\n",
      "HouseStyle__1.5Unf          0.0001      0.028      0.004      0.997      -0.055       0.056\n",
      "HouseStyle__2.5Fin         -0.0054      0.058     -0.093      0.926      -0.118       0.107\n",
      "HouseStyle__2.5Unf          0.0005      0.030      0.017      0.987      -0.059       0.060\n",
      "HouseStyle__2Story         -0.0400      0.017     -2.350      0.019      -0.073      -0.007\n",
      "HouseStyle__SFoyer          0.0646      0.015      4.208      0.000       0.034       0.095\n",
      "HouseStyle__SLvl           -0.0025      0.012     -0.208      0.835      -0.026       0.021\n",
      "RoofStyle__Flat             0.0634      0.030      2.107      0.035       0.004       0.123\n",
      "RoofStyle__Gambrel          0.0306      0.027      1.139      0.255      -0.022       0.083\n",
      "RoofStyle__Hip              0.0115      0.007      1.687      0.092      -0.002       0.025\n",
      "RoofStyle__Mansard         -0.0052      0.039     -0.132      0.895      -0.082       0.072\n",
      "RoofStyle__Shed             0.0150      0.053      0.285      0.776      -0.088       0.118\n",
      "MasVnrType__2               0.0069      0.006      1.072      0.284      -0.006       0.020\n",
      "MasVnrType__3              -0.0423      0.027     -1.546      0.122      -0.096       0.011\n",
      "MasVnrType__4               0.0073      0.011      0.638      0.524      -0.015       0.030\n",
      "CentralAir__0              -0.0451      0.012     -3.831      0.000      -0.068      -0.022\n",
      "Electrical__0              -0.0144      0.010     -1.517      0.130      -0.033       0.004\n",
      "PavedDrive__0              -0.0518      0.010     -5.417      0.000      -0.071      -0.033\n",
      "SaleType__Contract          0.0239      0.022      1.112      0.266      -0.018       0.066\n",
      "SaleType__Other            -0.0259      0.019     -1.376      0.169      -0.063       0.011\n",
      "PoolArea__1                 0.0442      0.043      1.028      0.304      -0.040       0.129\n",
      "Foundation__BrkTil         -0.0552      0.010     -5.619      0.000      -0.075      -0.036\n",
      "Foundation__PConc           0.0226      0.008      2.717      0.007       0.006       0.039\n",
      "Foundation__Slab            0.0741      0.031      2.426      0.015       0.014       0.134\n",
      "Foundation__Stone          -0.0054      0.043     -0.126      0.899      -0.089       0.079\n",
      "Foundation__Wood           -0.0198      0.046     -0.427      0.669      -0.111       0.071\n",
      "Season__Autumn             -0.0287      0.007     -3.959      0.000      -0.043      -0.015\n",
      "Season__Spring             -0.0060      0.006     -1.070      0.285      -0.017       0.005\n",
      "Season__Winter             -0.0053      0.008     -0.669      0.504      -0.021       0.010\n",
      "==============================================================================\n",
      "Omnibus:                      157.990   Durbin-Watson:                   2.029\n",
      "Prob(Omnibus):                  0.000   Jarque-Bera (JB):              467.885\n",
      "Skew:                          -0.437   Prob(JB):                    2.51e-102\n",
      "Kurtosis:                       5.308   Cond. No.                     1.00e+16\n",
      "==============================================================================\n",
      "\n",
      "Notes:\n",
      "[1] Standard Errors assume that the covariance matrix of the errors is correctly specified.\n",
      "[2] The smallest eigenvalue is 7.83e-23. This might indicate that there are\n",
      "strong multicollinearity problems or that the design matrix is singular.\n"
     ]
    },
    {
     "name": "stderr",
     "output_type": "stream",
     "text": [
      "/var/folders/kg/5clnm8vj1jz2tlvmfxjvq3_00000gn/T/ipykernel_1562/2122231980.py:16: SettingWithCopyWarning:\n",
      "\n",
      "\n",
      "A value is trying to be set on a copy of a slice from a DataFrame\n",
      "\n",
      "See the caveats in the documentation: https://pandas.pydata.org/pandas-docs/stable/user_guide/indexing.html#returning-a-view-versus-a-copy\n",
      "\n",
      "/Users/jchatterjee/opt/anaconda3/lib/python3.9/site-packages/statsmodels/tsa/tsatools.py:142: FutureWarning:\n",
      "\n",
      "In a future version of pandas all arguments of concat except for the argument 'objs' will be keyword-only\n",
      "\n"
     ]
    }
   ],
   "source": [
    "x = data_House_price.drop(['PID','SalePrice','MSSubClass','Condition1','Condition2','BldgType','YearBuilt','YearRemodAdd', \\\n",
    "                           'RoofMatl','Exterior1st','Exterior2nd','MasVnrArea','BsmtCond','BsmtExposure','BsmtFinType1', \\\n",
    "                           'BsmtFinSF1','BsmtFinType2','BsmtFinSF2','BsmtUnfSF','Heating','2ndFlrSF','BsmtFullBath', \\\n",
    "                           'BsmtHalfBath','BedroomAbvGr','KitchenAbvGr','Functional','FireplaceQu', 'GarageType', \\\n",
    "                           'GarageYrBlt','GarageCars','GarageQual','GarageCond','PoolQC','MiscVal','Alley__1','LotShape', \\\n",
    "                           'MoSold'],axis=1)\n",
    "\n",
    "# These are the parameters for which a logistic regression shall me performed\n",
    "x_log = ['GrLivArea','LotArea','TotalBsmtSF','LotFrontage','1stFlrSF']\n",
    "x_log_index = x.index.to_list()\n",
    "\n",
    "# Bump up values for zero in order to compute logistic regression\n",
    "for j in x_log:\n",
    "    for i in x_log_index:\n",
    "        if x[j][i] == 0:\n",
    "            x[j][i] += 0.001\n",
    "        else:\n",
    "            pass\n",
    "\n",
    "# Convert the independent variables parameters selected above to a logistic regression range\n",
    "for j in x_log:\n",
    "    x[j] = np.log(x[j])\n",
    "\n",
    "y = data_House_price['SalePrice']\n",
    "y = np.log(y)\n",
    "\n",
    "# To convert whatever strings your data might contain to numeric values. \n",
    "# If they're incompatible with conversion, they'll be reduced to NaNs.\n",
    "x = x.apply(pd.to_numeric, errors='coerce')\n",
    "y = y.apply(pd.to_numeric, errors='coerce')\n",
    "x.fillna(0, inplace=True)\n",
    "y.fillna(0, inplace=True)\n",
    "\n",
    "# Importing train_test_split from sklearn\n",
    "from sklearn.model_selection import train_test_split\n",
    "\n",
    "# Splitting the data\n",
    "x_train, x_test, y_train, y_test = train_test_split(x, y, test_size = 0.2, random_state = 100)\n",
    "\n",
    "# Importing module\n",
    "from sklearn.linear_model import LinearRegression\n",
    "\n",
    "# Creating an object of LinearRegression class\n",
    "LR = LinearRegression()\n",
    "\n",
    "# Fitting the training data\n",
    "LR.fit(x_train,y_train)\n",
    "\n",
    "print(\"Intercept: %f\" %LR.intercept_)\n",
    "print(\"Coefficients: %s\" %str(LR.coef_))\n",
    "print(\"R^2: %f\" %(LR.score(x_train,y_train)))\n",
    "print(\"R^2: %f\" %(LR.score(x_test,y_test)))\n",
    "\n",
    "features20 = sm.add_constant(x_train)\n",
    "ols_sm20   = OLS(y_train,features20)\n",
    "lm_test20    = ols_sm20.fit()\n",
    "\n",
    "print(lm_test20.summary())"
   ]
  },
  {
   "cell_type": "markdown",
   "id": "1b8fdd2e",
   "metadata": {},
   "source": [
    "Perform **Huber Regression** to evaluate the effect of removing outliers."
   ]
  },
  {
   "cell_type": "code",
   "execution_count": 17,
   "id": "ac3522a1",
   "metadata": {},
   "outputs": [
    {
     "name": "stderr",
     "output_type": "stream",
     "text": [
      "/Users/jchatterjee/opt/anaconda3/lib/python3.9/site-packages/sklearn/linear_model/_huber.py:296: ConvergenceWarning:\n",
      "\n",
      "lbfgs failed to converge (status=1):\n",
      "STOP: TOTAL NO. of ITERATIONS REACHED LIMIT.\n",
      "\n",
      "Increase the number of iterations (max_iter) or scale the data as shown in:\n",
      "    https://scikit-learn.org/stable/modules/preprocessing.html\n",
      "\n"
     ]
    },
    {
     "data": {
      "text/plain": [
       "0.9054350190492275"
      ]
     },
     "execution_count": 17,
     "metadata": {},
     "output_type": "execute_result"
    }
   ],
   "source": [
    "from sklearn.linear_model import HuberRegressor\n",
    "\n",
    "huber = HuberRegressor(max_iter = 1000).fit(x_train, y_train)\n",
    "huber.score(x_test, y_test)\n"
   ]
  },
  {
   "cell_type": "markdown",
   "id": "32f42ed7",
   "metadata": {},
   "source": [
    "Import packages for performing the **Penalized Regression** methods."
   ]
  },
  {
   "cell_type": "code",
   "execution_count": 18,
   "id": "7317f2f2",
   "metadata": {},
   "outputs": [],
   "source": [
    "from sklearn.linear_model import LinearRegression, Ridge, Lasso, ElasticNet\n",
    "from sklearn import datasets"
   ]
  },
  {
   "cell_type": "markdown",
   "id": "0a76fbb9",
   "metadata": {},
   "source": [
    "Perform **Ridge Regression**."
   ]
  },
  {
   "cell_type": "code",
   "execution_count": 19,
   "id": "f0bf92d5",
   "metadata": {},
   "outputs": [
    {
     "name": "stdout",
     "output_type": "stream",
     "text": [
      "the ridge intercept is: 9.89\n"
     ]
    },
    {
     "data": {
      "text/plain": [
       "0.9284828392447706"
      ]
     },
     "execution_count": 19,
     "metadata": {},
     "output_type": "execute_result"
    }
   ],
   "source": [
    "ridge = Ridge()\n",
    "ridge.fit(x_train, y_train)\n",
    "print('the ridge intercept is: %.2f' %(ridge.intercept_))\n",
    "#pd.Series(ridge.coef_, index=house_features.columns)\n",
    "ridge.score(x_test, y_test)"
   ]
  },
  {
   "cell_type": "markdown",
   "id": "8c3534a3",
   "metadata": {},
   "source": [
    "Perform **Lasso Regression**."
   ]
  },
  {
   "cell_type": "code",
   "execution_count": 20,
   "id": "145b147e",
   "metadata": {},
   "outputs": [
    {
     "data": {
      "text/plain": [
       "[0.9280841289032938,\n",
       " 0.7876134755673568,\n",
       " 0.6735566322130062,\n",
       " 0.5806021607293974,\n",
       " 0.580724274601164,\n",
       " 0.5807552984745492,\n",
       " 0.5806134534830795,\n",
       " 0.5802987719746174,\n",
       " 0.5798113389655144,\n",
       " 0.5791510569143472,\n",
       " 0.5783179258211159,\n",
       " 0.5773119459112778,\n",
       " 0.5761331170397104,\n",
       " 0.5747814390920374,\n",
       " 0.5732569120682598,\n",
       " 0.571559535968377,\n",
       " 0.5696893107923888,\n",
       " 0.5676462365341632,\n",
       " 0.5654303133315244,\n",
       " 0.563041541191518]"
      ]
     },
     "execution_count": 20,
     "metadata": {},
     "output_type": "execute_result"
    }
   ],
   "source": [
    "lasso  = Lasso()\n",
    "alphas = np.linspace(0.001,1.1,20)\n",
    "lasso.set_params(normalize=False)\n",
    "coefs_lasso  = []\n",
    "score_lasso  = []\n",
    "\n",
    "for alpha in alphas:\n",
    "        lasso.set_params(alpha=alpha)\n",
    "        lasso.fit(x_train, y_train)  \n",
    "        coefs_lasso.append(lasso.coef_)\n",
    "        score_lasso.append(lasso.score(x_test, y_test))\n",
    "\n",
    "coefs_lasso = pd.DataFrame(coefs_lasso, index = alphas, columns = x.columns)  \n",
    "#print(coefs_lasso.head())\n",
    "score_lasso"
   ]
  },
  {
   "cell_type": "markdown",
   "id": "c7053c83",
   "metadata": {},
   "source": [
    "Perform **ElasticNet Regression**."
   ]
  },
  {
   "cell_type": "code",
   "execution_count": 21,
   "id": "2996dd06",
   "metadata": {},
   "outputs": [
    {
     "name": "stdout",
     "output_type": "stream",
     "text": [
      "The R^2 is 0.93\n"
     ]
    },
    {
     "data": {
      "text/plain": [
       "(array([ 2.89952980e-01,  2.59020307e-02,  9.05364734e-02,  0.00000000e+00,\n",
       "         5.75817581e-02,  3.50904618e-02,  2.33213045e-02,  3.06911529e-03,\n",
       "         3.33814675e-02,  5.83022354e-03,  1.27179833e-02,  1.25973634e-01,\n",
       "        -8.76238766e-05,  1.79535715e-02,  2.26950920e-02,  3.25816768e-02,\n",
       "        -3.12403955e-03,  3.19051629e-02,  1.55085836e-02,  1.51696615e-04,\n",
       "         7.10927249e-05,  1.30879753e-04,  5.53621328e-05,  4.11568572e-05,\n",
       "         1.86322924e-04,  2.70694821e-04, -1.23819082e-03,  0.00000000e+00,\n",
       "        -5.88202053e-04, -4.10762625e-02, -2.19536392e-02, -2.14727502e-02,\n",
       "         2.75015241e-02,  2.25860083e-02, -1.65973440e-02,  1.01224483e-02,\n",
       "        -3.52103841e-02, -2.42890670e-02,  4.81471713e-02,  9.18354489e-02,\n",
       "         4.32868557e-02,  3.04464128e-02,  5.36287844e-02,  3.15845910e-02,\n",
       "         8.50818552e-02, -4.16664750e-02,  1.00897891e-02,  1.13742565e-01,\n",
       "         5.38851269e-01, -2.61111647e-02,  1.08390510e-02, -4.19250804e-02,\n",
       "         1.72910633e-02,  6.98983560e-02, -1.59843729e-03,  1.30153524e-01,\n",
       "         1.09551079e-01, -5.37878194e-02, -1.47115918e-02,  8.03451865e-03,\n",
       "        -9.65544668e-03,  8.81844993e-02,  1.16835573e-01,  5.34232772e-02,\n",
       "         7.08244580e-02, -9.14415611e-02, -4.25197696e-02,  7.58787813e-03,\n",
       "         1.90375781e-01, -9.39759333e-03, -9.31476909e-03, -0.00000000e+00,\n",
       "         2.22893468e-02, -1.50511545e-03,  6.27646553e-02, -0.00000000e+00,\n",
       "         6.71924567e-02,  1.32216650e-02,  8.20378728e-03, -3.12862022e-02,\n",
       "         2.88555346e-02,  6.83345024e-03, -3.76414823e-02,  2.90547167e-03,\n",
       "        -4.60495334e-02, -1.39916607e-02, -5.12182631e-02,  1.34307328e-02,\n",
       "        -2.36834862e-02,  1.79758017e-02, -4.25121160e-02,  2.63476827e-02,\n",
       "         4.58135826e-02,  1.22369009e-04,  0.00000000e+00, -2.70137546e-02,\n",
       "        -8.75843804e-03, -7.00038241e-03]),\n",
       " 9.566632533789047)"
      ]
     },
     "execution_count": 21,
     "metadata": {},
     "output_type": "execute_result"
    }
   ],
   "source": [
    "elasticnet = ElasticNet(alpha=0.00001, l1_ratio=0.5, normalize=True)\n",
    "elasticnet.fit(x, y)\n",
    "print(r'The R^2 is %.2f' %(elasticnet.score(x, y)))\n",
    "elasticnet.coef_,  elasticnet.intercept_"
   ]
  },
  {
   "cell_type": "markdown",
   "id": "7683865f",
   "metadata": {},
   "source": [
    "Perform **Random Forest Regression**."
   ]
  },
  {
   "cell_type": "code",
   "execution_count": 22,
   "id": "514cff5e",
   "metadata": {},
   "outputs": [
    {
     "data": {
      "text/plain": [
       "0.912384985882531"
      ]
     },
     "execution_count": 22,
     "metadata": {},
     "output_type": "execute_result"
    }
   ],
   "source": [
    "# Import the model we are using\n",
    "from sklearn.ensemble import RandomForestRegressor\n",
    "# Instantiate model with 1000 decision trees\n",
    "rf = RandomForestRegressor(n_estimators = 1000, random_state = 0)\n",
    "# Train the model on training data\n",
    "rf.fit(x_train, y_train)\n",
    "rf.score(x_test,y_test)"
   ]
  },
  {
   "cell_type": "markdown",
   "id": "1d62db88",
   "metadata": {},
   "source": [
    "Perform **Support Vector Machines Regression**."
   ]
  },
  {
   "cell_type": "code",
   "execution_count": 29,
   "id": "69f69bc6",
   "metadata": {},
   "outputs": [
    {
     "name": "stdout",
     "output_type": "stream",
     "text": [
      "Accuracy: 0.0021691973969631237\n"
     ]
    }
   ],
   "source": [
    "# # Import svm model\n",
    "# from sklearn import svm\n",
    "\n",
    "# # Import scikit-learn metrics module for accuracy calculation\n",
    "# from sklearn import metrics\n",
    "\n",
    "# # Import scikit-learn modules for encoding data\n",
    "# from sklearn import preprocessing\n",
    "# from sklearn import utils\n",
    "\n",
    "# # Create a svm Classifier\n",
    "# clf = svm.SVC(kernel='linear') # Linear Kernel\n",
    "\n",
    "# # Convert y values to categorical values\n",
    "# lab = preprocessing.LabelEncoder()\n",
    "# y_transformed_train = lab.fit_transform(y_train)\n",
    "# y_transformed_test = lab.fit_transform(y_test)\n",
    "\n",
    "# # Train the model using the training sets\n",
    "# clf.fit(x_train, y_transformed_train)\n",
    "\n",
    "# # Predict the response for test dataset\n",
    "# y_pred = clf.predict(x_test)\n",
    "\n",
    "# # Model Accuracy: how often is the classifier correct?\n",
    "# print(\"Accuracy:\",metrics.accuracy_score(y_transformed_test, y_pred))"
   ]
  }
 ],
 "metadata": {
  "kernelspec": {
   "display_name": "Python 3 (ipykernel)",
   "language": "python",
   "name": "python3"
  },
  "language_info": {
   "codemirror_mode": {
    "name": "ipython",
    "version": 3
   },
   "file_extension": ".py",
   "mimetype": "text/x-python",
   "name": "python",
   "nbconvert_exporter": "python",
   "pygments_lexer": "ipython3",
   "version": "3.9.7"
  }
 },
 "nbformat": 4,
 "nbformat_minor": 5
}
