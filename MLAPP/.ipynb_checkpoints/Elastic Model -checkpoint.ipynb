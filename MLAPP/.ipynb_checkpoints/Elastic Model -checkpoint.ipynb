{
 "cells": [
  {
   "cell_type": "code",
   "execution_count": 16,
   "id": "c322cb89",
   "metadata": {
    "scrolled": true
   },
   "outputs": [
    {
     "name": "stdout",
     "output_type": "stream",
     "text": [
      "The R^2 is 0.92107\n",
      "The R^2 is 0.94128\n"
     ]
    },
    {
     "name": "stderr",
     "output_type": "stream",
     "text": [
      "/Users/layalhammad/opt/anaconda3/lib/python3.9/site-packages/sklearn/linear_model/_base.py:141: FutureWarning: 'normalize' was deprecated in version 1.0 and will be removed in 1.2.\n",
      "If you wish to scale the data, use Pipeline with a StandardScaler in a preprocessing stage. To reproduce the previous behavior:\n",
      "\n",
      "from sklearn.pipeline import make_pipeline\n",
      "\n",
      "model = make_pipeline(StandardScaler(with_mean=False), ElasticNet())\n",
      "\n",
      "If you wish to pass a sample_weight parameter, you need to pass it as a fit parameter to each step of the pipeline as follows:\n",
      "\n",
      "kwargs = {s[0] + '__sample_weight': sample_weight for s in model.steps}\n",
      "model.fit(X, y, **kwargs)\n",
      "\n",
      "Set parameter alpha to original_alpha * np.sqrt(n_samples) if l1_ratio is 1, and to original_alpha * n_samples if l1_ratio is 0. For other values of l1_ratio, no analytic formula is available.\n",
      "  warnings.warn(\n"
     ]
    },
    {
     "data": {
      "text/plain": [
       "0.9412824538648435"
      ]
     },
     "execution_count": 16,
     "metadata": {},
     "output_type": "execute_result"
    }
   ],
   "source": [
    "import numpy as np\n",
    "import os\n",
    "import pickle\n",
    "import pandas as pd\n",
    "import pickle\n",
    "from sklearn.model_selection import train_test_split\n",
    "from sklearn.linear_model import LinearRegression, Ridge, Lasso, ElasticNet\n",
    "\n",
    "\n",
    "\n",
    "#Multi-Linear Model\n",
    "x = FinalData.drop(['SalePrice','GarageCars'],axis=1)\n",
    "\n",
    "x['GrLivArea']=np.log(x['GrLivArea'])\n",
    "x['LotArea']=np.log(x['LotArea'])\n",
    "x['LotFrontage']=np.log(x['LotFrontage'])\n",
    "x['MasVnrArea']=np.log(x['MasVnrArea']+0.0000001)\n",
    "x['Totalbathr']=np.log(x['Totalbathr'])\n",
    "x['Outside_Spaces']=np.log(x['Outside_Spaces']+0.000001)\n",
    "x['TotRmsAbvGrd']=np.log(x['TotRmsAbvGrd'])\n",
    "\n",
    "y = FinalData['SalePrice']\n",
    "y=np.log(y)\n",
    "\n",
    "#to convert whatever strings your data might contain to numeric values. \n",
    "#If they're incompatible with conversion, they'll be reduced to NaNs.\n",
    "x = x.apply(pd.to_numeric, errors='coerce')\n",
    "y = y.apply(pd.to_numeric, errors='coerce')\n",
    "x.fillna(0, inplace=True)\n",
    "y.fillna(0, inplace=True)\n",
    "\n",
    "\n",
    "x_train, x_test, y_train, y_test = train_test_split(x, y, test_size = 0.2, random_state = 41)\n",
    "elasticnet = ElasticNet(alpha=0.000041775510204081, l1_ratio=0.9591836734693877, normalize=True)\n",
    "elasticnet.fit(x_train, y_train)\n",
    "print(r'The R^2 is %.5f' %(elasticnet.score(x_train, y_train)))\n",
    "print(r'The R^2 is %.5f' %(elasticnet.score(x_test, y_test)))\n",
    "elasticnet.coef_,  elasticnet.intercept_\n",
    "\n",
    "elasticnet.score(x_test, y_test)\n",
    "\n"
   ]
  },
  {
   "cell_type": "code",
   "execution_count": 17,
   "id": "2adf7999",
   "metadata": {},
   "outputs": [],
   "source": [
    "pickle.dump(elasticnet, open('model.pkl', 'wb'))"
   ]
  }
 ],
 "metadata": {
  "kernelspec": {
   "display_name": "Python 3 (ipykernel)",
   "language": "python",
   "name": "python3"
  },
  "language_info": {
   "codemirror_mode": {
    "name": "ipython",
    "version": 3
   },
   "file_extension": ".py",
   "mimetype": "text/x-python",
   "name": "python",
   "nbconvert_exporter": "python",
   "pygments_lexer": "ipython3",
   "version": "3.9.7"
  }
 },
 "nbformat": 4,
 "nbformat_minor": 5
}
